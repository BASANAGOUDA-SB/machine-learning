{
 "cells": [
  {
   "cell_type": "raw",
   "id": "62bf8048",
   "metadata": {},
   "source": [
    "<P-134- Forecast Gold Prices>\n",
    "Group=3"
   ]
  },
  {
   "cell_type": "raw",
   "id": "e0f4f501",
   "metadata": {},
   "source": [
    "Business Objective:\n",
    "\n",
    "Data provided is related to gold prices. The objective is to understand the underlying structure in your dataset and come up with a suitable forecasting model which can effectively forecast gold prices for next 30 days.\n",
    "\n",
    "This forecast model will be used by gold exporting and gold importing companies to understand the metal price movements and accordingly set their revenue expectations.\n"
   ]
  },
  {
   "cell_type": "markdown",
   "id": "565af690",
   "metadata": {},
   "source": [
    "# Importing the libraries"
   ]
  },
  {
   "cell_type": "code",
   "execution_count": 1,
   "id": "3ef44d55",
   "metadata": {
    "ExecuteTime": {
     "end_time": "2022-10-17T10:23:03.023939Z",
     "start_time": "2022-10-17T10:22:28.877262Z"
    }
   },
   "outputs": [],
   "source": [
    "import warnings\n",
    "warnings.filterwarnings('ignore')\n",
    "\n",
    "#libraries for preprocessing\n",
    "import numpy as np \n",
    "import pandas as pd \n",
    "\n",
    "#libraries for visualization\n",
    "import matplotlib.pyplot as plt\n",
    "import seaborn as sns \n",
    "\n",
    "#libraries for data based / driven models \n",
    "from statsmodels.tsa.seasonal import seasonal_decompose \n",
    "from statsmodels.tsa.holtwinters import SimpleExpSmoothing #for simple exponential smoothning\n",
    "from statsmodels.tsa.holtwinters import Holt #for holts/Double exponential model\n",
    "from statsmodels.tsa.holtwinters import ExponentialSmoothing \n",
    "\n",
    "#\n",
    "#libraries for ploting ACF and PACF plots\n",
    "import statsmodels.graphics.tsaplots as tsa_plots \n",
    "\n",
    "#libraries for checking the stationarity\n",
    "from statsmodels.tsa.stattools import adfuller\n",
    "#from statsmodels.tsa.statespace.tools import diff as diff\n",
    "\n",
    "#libraries for ARMA model\n",
    "from statsmodels.tsa.arima_model import ARMA\n",
    "\n",
    "#libraries for model driven models (ARIMA)\n",
    "from statsmodels.tsa.arima_model import ARIMA\n",
    "import statsmodels.api as sm\n"
   ]
  },
  {
   "cell_type": "markdown",
   "id": "58f3325f",
   "metadata": {},
   "source": [
    "# Importing the data"
   ]
  },
  {
   "cell_type": "code",
   "execution_count": 2,
   "id": "59e7a78b",
   "metadata": {
    "ExecuteTime": {
     "end_time": "2022-10-17T10:23:04.520366Z",
     "start_time": "2022-10-17T10:23:03.028934Z"
    }
   },
   "outputs": [
    {
     "ename": "FileNotFoundError",
     "evalue": "[Errno 2] No such file or directory: 'Gold_data.csv'",
     "output_type": "error",
     "traceback": [
      "\u001b[1;31m---------------------------------------------------------------------------\u001b[0m",
      "\u001b[1;31mFileNotFoundError\u001b[0m                         Traceback (most recent call last)",
      "\u001b[1;32mC:\\Users\\ROCKET~1\\AppData\\Local\\Temp/ipykernel_3232/2546103081.py\u001b[0m in \u001b[0;36m<module>\u001b[1;34m\u001b[0m\n\u001b[1;32m----> 1\u001b[1;33m \u001b[0mgold_price\u001b[0m \u001b[1;33m=\u001b[0m \u001b[0mpd\u001b[0m\u001b[1;33m.\u001b[0m\u001b[0mread_csv\u001b[0m\u001b[1;33m(\u001b[0m\u001b[1;34m'Gold_data.csv'\u001b[0m \u001b[1;33m,\u001b[0m \u001b[0mparse_dates\u001b[0m\u001b[1;33m=\u001b[0m\u001b[1;33m[\u001b[0m\u001b[1;34m'date'\u001b[0m\u001b[1;33m]\u001b[0m\u001b[1;33m)\u001b[0m\u001b[1;33m\u001b[0m\u001b[1;33m\u001b[0m\u001b[0m\n\u001b[0m",
      "\u001b[1;32mF:\\Basu sb\\lib\\site-packages\\pandas\\util\\_decorators.py\u001b[0m in \u001b[0;36mwrapper\u001b[1;34m(*args, **kwargs)\u001b[0m\n\u001b[0;32m    309\u001b[0m                     \u001b[0mstacklevel\u001b[0m\u001b[1;33m=\u001b[0m\u001b[0mstacklevel\u001b[0m\u001b[1;33m,\u001b[0m\u001b[1;33m\u001b[0m\u001b[1;33m\u001b[0m\u001b[0m\n\u001b[0;32m    310\u001b[0m                 )\n\u001b[1;32m--> 311\u001b[1;33m             \u001b[1;32mreturn\u001b[0m \u001b[0mfunc\u001b[0m\u001b[1;33m(\u001b[0m\u001b[1;33m*\u001b[0m\u001b[0margs\u001b[0m\u001b[1;33m,\u001b[0m \u001b[1;33m**\u001b[0m\u001b[0mkwargs\u001b[0m\u001b[1;33m)\u001b[0m\u001b[1;33m\u001b[0m\u001b[1;33m\u001b[0m\u001b[0m\n\u001b[0m\u001b[0;32m    312\u001b[0m \u001b[1;33m\u001b[0m\u001b[0m\n\u001b[0;32m    313\u001b[0m         \u001b[1;32mreturn\u001b[0m \u001b[0mwrapper\u001b[0m\u001b[1;33m\u001b[0m\u001b[1;33m\u001b[0m\u001b[0m\n",
      "\u001b[1;32mF:\\Basu sb\\lib\\site-packages\\pandas\\io\\parsers\\readers.py\u001b[0m in \u001b[0;36mread_csv\u001b[1;34m(filepath_or_buffer, sep, delimiter, header, names, index_col, usecols, squeeze, prefix, mangle_dupe_cols, dtype, engine, converters, true_values, false_values, skipinitialspace, skiprows, skipfooter, nrows, na_values, keep_default_na, na_filter, verbose, skip_blank_lines, parse_dates, infer_datetime_format, keep_date_col, date_parser, dayfirst, cache_dates, iterator, chunksize, compression, thousands, decimal, lineterminator, quotechar, quoting, doublequote, escapechar, comment, encoding, encoding_errors, dialect, error_bad_lines, warn_bad_lines, on_bad_lines, delim_whitespace, low_memory, memory_map, float_precision, storage_options)\u001b[0m\n\u001b[0;32m    584\u001b[0m     \u001b[0mkwds\u001b[0m\u001b[1;33m.\u001b[0m\u001b[0mupdate\u001b[0m\u001b[1;33m(\u001b[0m\u001b[0mkwds_defaults\u001b[0m\u001b[1;33m)\u001b[0m\u001b[1;33m\u001b[0m\u001b[1;33m\u001b[0m\u001b[0m\n\u001b[0;32m    585\u001b[0m \u001b[1;33m\u001b[0m\u001b[0m\n\u001b[1;32m--> 586\u001b[1;33m     \u001b[1;32mreturn\u001b[0m \u001b[0m_read\u001b[0m\u001b[1;33m(\u001b[0m\u001b[0mfilepath_or_buffer\u001b[0m\u001b[1;33m,\u001b[0m \u001b[0mkwds\u001b[0m\u001b[1;33m)\u001b[0m\u001b[1;33m\u001b[0m\u001b[1;33m\u001b[0m\u001b[0m\n\u001b[0m\u001b[0;32m    587\u001b[0m \u001b[1;33m\u001b[0m\u001b[0m\n\u001b[0;32m    588\u001b[0m \u001b[1;33m\u001b[0m\u001b[0m\n",
      "\u001b[1;32mF:\\Basu sb\\lib\\site-packages\\pandas\\io\\parsers\\readers.py\u001b[0m in \u001b[0;36m_read\u001b[1;34m(filepath_or_buffer, kwds)\u001b[0m\n\u001b[0;32m    480\u001b[0m \u001b[1;33m\u001b[0m\u001b[0m\n\u001b[0;32m    481\u001b[0m     \u001b[1;31m# Create the parser.\u001b[0m\u001b[1;33m\u001b[0m\u001b[1;33m\u001b[0m\u001b[0m\n\u001b[1;32m--> 482\u001b[1;33m     \u001b[0mparser\u001b[0m \u001b[1;33m=\u001b[0m \u001b[0mTextFileReader\u001b[0m\u001b[1;33m(\u001b[0m\u001b[0mfilepath_or_buffer\u001b[0m\u001b[1;33m,\u001b[0m \u001b[1;33m**\u001b[0m\u001b[0mkwds\u001b[0m\u001b[1;33m)\u001b[0m\u001b[1;33m\u001b[0m\u001b[1;33m\u001b[0m\u001b[0m\n\u001b[0m\u001b[0;32m    483\u001b[0m \u001b[1;33m\u001b[0m\u001b[0m\n\u001b[0;32m    484\u001b[0m     \u001b[1;32mif\u001b[0m \u001b[0mchunksize\u001b[0m \u001b[1;32mor\u001b[0m \u001b[0miterator\u001b[0m\u001b[1;33m:\u001b[0m\u001b[1;33m\u001b[0m\u001b[1;33m\u001b[0m\u001b[0m\n",
      "\u001b[1;32mF:\\Basu sb\\lib\\site-packages\\pandas\\io\\parsers\\readers.py\u001b[0m in \u001b[0;36m__init__\u001b[1;34m(self, f, engine, **kwds)\u001b[0m\n\u001b[0;32m    809\u001b[0m             \u001b[0mself\u001b[0m\u001b[1;33m.\u001b[0m\u001b[0moptions\u001b[0m\u001b[1;33m[\u001b[0m\u001b[1;34m\"has_index_names\"\u001b[0m\u001b[1;33m]\u001b[0m \u001b[1;33m=\u001b[0m \u001b[0mkwds\u001b[0m\u001b[1;33m[\u001b[0m\u001b[1;34m\"has_index_names\"\u001b[0m\u001b[1;33m]\u001b[0m\u001b[1;33m\u001b[0m\u001b[1;33m\u001b[0m\u001b[0m\n\u001b[0;32m    810\u001b[0m \u001b[1;33m\u001b[0m\u001b[0m\n\u001b[1;32m--> 811\u001b[1;33m         \u001b[0mself\u001b[0m\u001b[1;33m.\u001b[0m\u001b[0m_engine\u001b[0m \u001b[1;33m=\u001b[0m \u001b[0mself\u001b[0m\u001b[1;33m.\u001b[0m\u001b[0m_make_engine\u001b[0m\u001b[1;33m(\u001b[0m\u001b[0mself\u001b[0m\u001b[1;33m.\u001b[0m\u001b[0mengine\u001b[0m\u001b[1;33m)\u001b[0m\u001b[1;33m\u001b[0m\u001b[1;33m\u001b[0m\u001b[0m\n\u001b[0m\u001b[0;32m    812\u001b[0m \u001b[1;33m\u001b[0m\u001b[0m\n\u001b[0;32m    813\u001b[0m     \u001b[1;32mdef\u001b[0m \u001b[0mclose\u001b[0m\u001b[1;33m(\u001b[0m\u001b[0mself\u001b[0m\u001b[1;33m)\u001b[0m\u001b[1;33m:\u001b[0m\u001b[1;33m\u001b[0m\u001b[1;33m\u001b[0m\u001b[0m\n",
      "\u001b[1;32mF:\\Basu sb\\lib\\site-packages\\pandas\\io\\parsers\\readers.py\u001b[0m in \u001b[0;36m_make_engine\u001b[1;34m(self, engine)\u001b[0m\n\u001b[0;32m   1038\u001b[0m             )\n\u001b[0;32m   1039\u001b[0m         \u001b[1;31m# error: Too many arguments for \"ParserBase\"\u001b[0m\u001b[1;33m\u001b[0m\u001b[1;33m\u001b[0m\u001b[0m\n\u001b[1;32m-> 1040\u001b[1;33m         \u001b[1;32mreturn\u001b[0m \u001b[0mmapping\u001b[0m\u001b[1;33m[\u001b[0m\u001b[0mengine\u001b[0m\u001b[1;33m]\u001b[0m\u001b[1;33m(\u001b[0m\u001b[0mself\u001b[0m\u001b[1;33m.\u001b[0m\u001b[0mf\u001b[0m\u001b[1;33m,\u001b[0m \u001b[1;33m**\u001b[0m\u001b[0mself\u001b[0m\u001b[1;33m.\u001b[0m\u001b[0moptions\u001b[0m\u001b[1;33m)\u001b[0m  \u001b[1;31m# type: ignore[call-arg]\u001b[0m\u001b[1;33m\u001b[0m\u001b[1;33m\u001b[0m\u001b[0m\n\u001b[0m\u001b[0;32m   1041\u001b[0m \u001b[1;33m\u001b[0m\u001b[0m\n\u001b[0;32m   1042\u001b[0m     \u001b[1;32mdef\u001b[0m \u001b[0m_failover_to_python\u001b[0m\u001b[1;33m(\u001b[0m\u001b[0mself\u001b[0m\u001b[1;33m)\u001b[0m\u001b[1;33m:\u001b[0m\u001b[1;33m\u001b[0m\u001b[1;33m\u001b[0m\u001b[0m\n",
      "\u001b[1;32mF:\\Basu sb\\lib\\site-packages\\pandas\\io\\parsers\\c_parser_wrapper.py\u001b[0m in \u001b[0;36m__init__\u001b[1;34m(self, src, **kwds)\u001b[0m\n\u001b[0;32m     49\u001b[0m \u001b[1;33m\u001b[0m\u001b[0m\n\u001b[0;32m     50\u001b[0m         \u001b[1;31m# open handles\u001b[0m\u001b[1;33m\u001b[0m\u001b[1;33m\u001b[0m\u001b[0m\n\u001b[1;32m---> 51\u001b[1;33m         \u001b[0mself\u001b[0m\u001b[1;33m.\u001b[0m\u001b[0m_open_handles\u001b[0m\u001b[1;33m(\u001b[0m\u001b[0msrc\u001b[0m\u001b[1;33m,\u001b[0m \u001b[0mkwds\u001b[0m\u001b[1;33m)\u001b[0m\u001b[1;33m\u001b[0m\u001b[1;33m\u001b[0m\u001b[0m\n\u001b[0m\u001b[0;32m     52\u001b[0m         \u001b[1;32massert\u001b[0m \u001b[0mself\u001b[0m\u001b[1;33m.\u001b[0m\u001b[0mhandles\u001b[0m \u001b[1;32mis\u001b[0m \u001b[1;32mnot\u001b[0m \u001b[1;32mNone\u001b[0m\u001b[1;33m\u001b[0m\u001b[1;33m\u001b[0m\u001b[0m\n\u001b[0;32m     53\u001b[0m \u001b[1;33m\u001b[0m\u001b[0m\n",
      "\u001b[1;32mF:\\Basu sb\\lib\\site-packages\\pandas\\io\\parsers\\base_parser.py\u001b[0m in \u001b[0;36m_open_handles\u001b[1;34m(self, src, kwds)\u001b[0m\n\u001b[0;32m    220\u001b[0m         \u001b[0mLet\u001b[0m \u001b[0mthe\u001b[0m \u001b[0mreaders\u001b[0m \u001b[0mopen\u001b[0m \u001b[0mIOHandles\u001b[0m \u001b[0mafter\u001b[0m \u001b[0mthey\u001b[0m \u001b[0mare\u001b[0m \u001b[0mdone\u001b[0m \u001b[1;32mwith\u001b[0m \u001b[0mtheir\u001b[0m \u001b[0mpotential\u001b[0m \u001b[0mraises\u001b[0m\u001b[1;33m.\u001b[0m\u001b[1;33m\u001b[0m\u001b[1;33m\u001b[0m\u001b[0m\n\u001b[0;32m    221\u001b[0m         \"\"\"\n\u001b[1;32m--> 222\u001b[1;33m         self.handles = get_handle(\n\u001b[0m\u001b[0;32m    223\u001b[0m             \u001b[0msrc\u001b[0m\u001b[1;33m,\u001b[0m\u001b[1;33m\u001b[0m\u001b[1;33m\u001b[0m\u001b[0m\n\u001b[0;32m    224\u001b[0m             \u001b[1;34m\"r\"\u001b[0m\u001b[1;33m,\u001b[0m\u001b[1;33m\u001b[0m\u001b[1;33m\u001b[0m\u001b[0m\n",
      "\u001b[1;32mF:\\Basu sb\\lib\\site-packages\\pandas\\io\\common.py\u001b[0m in \u001b[0;36mget_handle\u001b[1;34m(path_or_buf, mode, encoding, compression, memory_map, is_text, errors, storage_options)\u001b[0m\n\u001b[0;32m    700\u001b[0m         \u001b[1;32mif\u001b[0m \u001b[0mioargs\u001b[0m\u001b[1;33m.\u001b[0m\u001b[0mencoding\u001b[0m \u001b[1;32mand\u001b[0m \u001b[1;34m\"b\"\u001b[0m \u001b[1;32mnot\u001b[0m \u001b[1;32min\u001b[0m \u001b[0mioargs\u001b[0m\u001b[1;33m.\u001b[0m\u001b[0mmode\u001b[0m\u001b[1;33m:\u001b[0m\u001b[1;33m\u001b[0m\u001b[1;33m\u001b[0m\u001b[0m\n\u001b[0;32m    701\u001b[0m             \u001b[1;31m# Encoding\u001b[0m\u001b[1;33m\u001b[0m\u001b[1;33m\u001b[0m\u001b[0m\n\u001b[1;32m--> 702\u001b[1;33m             handle = open(\n\u001b[0m\u001b[0;32m    703\u001b[0m                 \u001b[0mhandle\u001b[0m\u001b[1;33m,\u001b[0m\u001b[1;33m\u001b[0m\u001b[1;33m\u001b[0m\u001b[0m\n\u001b[0;32m    704\u001b[0m                 \u001b[0mioargs\u001b[0m\u001b[1;33m.\u001b[0m\u001b[0mmode\u001b[0m\u001b[1;33m,\u001b[0m\u001b[1;33m\u001b[0m\u001b[1;33m\u001b[0m\u001b[0m\n",
      "\u001b[1;31mFileNotFoundError\u001b[0m: [Errno 2] No such file or directory: 'Gold_data.csv'"
     ]
    }
   ],
   "source": [
    "gold_price = pd.read_csv('Gold_data.csv' , parse_dates=['date'])"
   ]
  },
  {
   "cell_type": "code",
   "execution_count": null,
   "id": "b6b74770",
   "metadata": {
    "ExecuteTime": {
     "end_time": "2022-10-17T10:23:04.520366Z",
     "start_time": "2022-10-17T10:23:04.520366Z"
    }
   },
   "outputs": [],
   "source": [
    "gold_price"
   ]
  },
  {
   "cell_type": "markdown",
   "id": "8d316bf0",
   "metadata": {},
   "source": [
    "# Preprocessing the data "
   ]
  },
  {
   "cell_type": "code",
   "execution_count": null,
   "id": "612cc1b1",
   "metadata": {
    "ExecuteTime": {
     "end_time": "2022-10-17T10:23:04.520366Z",
     "start_time": "2022-10-17T10:23:04.520366Z"
    }
   },
   "outputs": [],
   "source": [
    "gold_price['date']=pd.to_datetime(gold_price['date'])"
   ]
  },
  {
   "cell_type": "code",
   "execution_count": null,
   "id": "addc7e77",
   "metadata": {
    "ExecuteTime": {
     "end_time": "2022-10-17T10:23:04.535936Z",
     "start_time": "2022-10-17T10:23:04.535936Z"
    }
   },
   "outputs": [],
   "source": [
    "gold_price.info()"
   ]
  },
  {
   "cell_type": "raw",
   "id": "cb01613a",
   "metadata": {},
   "source": [
    "#for time series forcasting our index should be in datetimeindex formet\n",
    "so resetting the index column by datetime formet"
   ]
  },
  {
   "cell_type": "code",
   "execution_count": null,
   "id": "fdd97ed8",
   "metadata": {
    "ExecuteTime": {
     "end_time": "2022-10-17T10:23:04.535936Z",
     "start_time": "2022-10-17T10:23:04.535936Z"
    }
   },
   "outputs": [],
   "source": [
    "gold_price = gold_price.set_index('date' , drop=True)"
   ]
  },
  {
   "cell_type": "code",
   "execution_count": null,
   "id": "49f47610",
   "metadata": {
    "ExecuteTime": {
     "end_time": "2022-10-17T10:23:04.535936Z",
     "start_time": "2022-10-17T10:23:04.535936Z"
    }
   },
   "outputs": [],
   "source": [
    "gold_price"
   ]
  },
  {
   "cell_type": "code",
   "execution_count": null,
   "id": "5206741a",
   "metadata": {
    "ExecuteTime": {
     "end_time": "2022-10-17T10:23:04.535936Z",
     "start_time": "2022-10-17T10:23:04.535936Z"
    }
   },
   "outputs": [],
   "source": [
    "gold_price.info()"
   ]
  },
  {
   "cell_type": "code",
   "execution_count": null,
   "id": "c9aab164",
   "metadata": {
    "ExecuteTime": {
     "end_time": "2022-10-17T10:23:04.535936Z",
     "start_time": "2022-10-17T10:23:04.535936Z"
    }
   },
   "outputs": [],
   "source": [
    "gold_price.shape"
   ]
  },
  {
   "cell_type": "markdown",
   "id": "ede89fa4",
   "metadata": {},
   "source": [
    "# Checking for any missing dates in our data "
   ]
  },
  {
   "cell_type": "code",
   "execution_count": null,
   "id": "ce1b1ece",
   "metadata": {
    "ExecuteTime": {
     "end_time": "2022-10-17T10:23:04.542210Z",
     "start_time": "2022-10-17T10:23:04.542210Z"
    }
   },
   "outputs": [],
   "source": [
    "print(pd.date_range(start='2016-01-01' , end='2021-12-21').difference(gold_price.index))"
   ]
  },
  {
   "cell_type": "markdown",
   "id": "50db1b9e",
   "metadata": {},
   "source": [
    "since from above output we get to know that there are no missing dates"
   ]
  },
  {
   "cell_type": "markdown",
   "id": "bbd55198",
   "metadata": {},
   "source": [
    "# Checking for the null values "
   ]
  },
  {
   "cell_type": "code",
   "execution_count": null,
   "id": "2d8a9ec5",
   "metadata": {
    "ExecuteTime": {
     "end_time": "2022-10-17T10:23:04.543208Z",
     "start_time": "2022-10-17T10:23:04.543208Z"
    }
   },
   "outputs": [],
   "source": [
    "print('missing_price :',gold_price.isna().sum())"
   ]
  },
  {
   "cell_type": "markdown",
   "id": "4e40db74",
   "metadata": {},
   "source": [
    "there are null values"
   ]
  },
  {
   "cell_type": "markdown",
   "id": "0630adb6",
   "metadata": {},
   "source": [
    "# Checking for the outlayers"
   ]
  },
  {
   "cell_type": "code",
   "execution_count": null,
   "id": "6314bc93",
   "metadata": {
    "ExecuteTime": {
     "end_time": "2022-10-17T10:23:04.545204Z",
     "start_time": "2022-10-17T10:23:04.545204Z"
    }
   },
   "outputs": [],
   "source": [
    "fig , ax=plt.subplots(figsize=(12,6))\n",
    "sns.boxplot(data=gold_price , x=gold_price.index.year , y='price' , ax=ax)"
   ]
  },
  {
   "cell_type": "markdown",
   "id": "2aefa74a",
   "metadata": {},
   "source": [
    "# Data Understanding "
   ]
  },
  {
   "cell_type": "markdown",
   "id": "84bfcd19",
   "metadata": {},
   "source": [
    "# EDA==>Exploratory data analysis"
   ]
  },
  {
   "cell_type": "raw",
   "id": "d0b1e142",
   "metadata": {},
   "source": [
    "Ploting the line graph\n",
    "the line plot which gives the information of the growth (wether the data is increasing , decreasing , or constant"
   ]
  },
  {
   "cell_type": "code",
   "execution_count": null,
   "id": "9d122596",
   "metadata": {
    "ExecuteTime": {
     "end_time": "2022-10-17T10:23:04.547232Z",
     "start_time": "2022-10-17T10:23:04.547232Z"
    }
   },
   "outputs": [],
   "source": [
    "#day wise \n",
    "plt.figure(figsize=(14,7))\n",
    "gold_price.price.plot()\n",
    "plt.ylabel('Price')"
   ]
  },
  {
   "cell_type": "code",
   "execution_count": null,
   "id": "131df105",
   "metadata": {
    "ExecuteTime": {
     "end_time": "2022-10-17T10:23:04.548194Z",
     "start_time": "2022-10-17T10:23:04.548194Z"
    }
   },
   "outputs": [],
   "source": [
    "#day wise\n",
    "#considering only one year\n",
    "plt.figure(figsize=(14,7))\n",
    "gold_price.price[:365].plot()\n",
    "plt.ylabel('Price')"
   ]
  },
  {
   "cell_type": "raw",
   "id": "4e93b788",
   "metadata": {},
   "source": [
    "#By using the resampleing technique\n",
    "\n",
    "[ploting the line graph for weekly,monthly,quaterly,annualy for understanding the data how it is varying (increasing , decreasing , constant)]\n",
    "\n",
    "To aggregate or temporal resample the data for a time period, you can take all of the values for each day and summarize them."
   ]
  },
  {
   "cell_type": "code",
   "execution_count": null,
   "id": "1a4c5a7f",
   "metadata": {
    "ExecuteTime": {
     "end_time": "2022-10-17T10:23:04.550189Z",
     "start_time": "2022-10-17T10:23:04.550189Z"
    }
   },
   "outputs": [],
   "source": [
    "#weekly\n",
    "plt.figure(figsize=(14,7))\n",
    "gold_price['price'].resample(rule='W').mean().plot()\n",
    "plt.ylabel('price')\n",
    "plt.xlabel('Based on weekly')\n",
    "\n",
    "#month wise\n",
    "plt.figure(figsize=(14,7))\n",
    "gold_price[\"price\"].resample(rule=\"MS\").mean().plot()\n",
    "plt.ylabel(\"Price\")\n",
    "plt.xlabel('based on monthly')\n",
    "\n",
    "#Ouaterly wise\n",
    "plt.figure(figsize=(14,7))\n",
    "gold_price[\"price\"].resample(rule=\"QS\").mean().plot()\n",
    "plt.ylabel(\"Price\")\n",
    "plt.xlabel('based on quaterly')\n",
    "\n",
    "#anually wise\n",
    "plt.figure(figsize=(14,7))\n",
    "gold_price[\"price\"].resample(rule=\"A\").mean().plot()\n",
    "plt.ylabel(\"Price\")\n",
    "plt.xlabel('Based on Anually')"
   ]
  },
  {
   "cell_type": "raw",
   "id": "8a78cc5b",
   "metadata": {},
   "source": [
    "#ploting the bar graph\n",
    "the bar graph shows that at which month , quarter, annual we have the highest max price"
   ]
  },
  {
   "cell_type": "raw",
   "id": "d5893586",
   "metadata": {
    "ExecuteTime": {
     "end_time": "2022-07-12T19:37:21.915620Z",
     "start_time": "2022-07-12T19:37:17.528947Z"
    }
   },
   "source": [
    "#Monthly (max price)\n",
    "plt.figure(figsize=(14,7))\n",
    "gold_price['price'].resample(rule='W').mean().plot()\n",
    "plt.ylabel('price')\n",
    "plt.xlabel('Based on weekly')\n",
    "\n",
    "#month wise\n",
    "plt.figure(figsize=(14,7))\n",
    "gold_price[\"price\"].resample(rule=\"MS\").mean().plot()\n",
    "plt.ylabel(\"Price\")\n",
    "plt.xlabel('based on monthly')\n",
    "\n",
    "#Ouaterly wise\n",
    "plt.figure(figsize=(14,7))\n",
    "gold_price[\"price\"].resample(rule=\"QS\").mean().plot()\n",
    "plt.ylabel(\"Price\")\n",
    "plt.xlabel('based on quaterly')\n",
    "\n",
    "#anually wise\n",
    "plt.figure(figsize=(14,7))\n",
    "gold_price[\"price\"].resample(rule=\"A\").mean().plot()\n",
    "plt.ylabel(\"Price\")\n",
    "plt.xlabel('Based on Anually')"
   ]
  },
  {
   "cell_type": "raw",
   "id": "2a868d24",
   "metadata": {},
   "source": [
    "Ploting the bar graph by using the seaborn library"
   ]
  },
  {
   "cell_type": "code",
   "execution_count": null,
   "id": "d69629e1",
   "metadata": {
    "ExecuteTime": {
     "end_time": "2022-10-17T10:23:04.551186Z",
     "start_time": "2022-10-17T10:23:04.551186Z"
    }
   },
   "outputs": [],
   "source": [
    "#Annually\n",
    "sns.barplot(data=gold_price , x=gold_price.index.year, y='price')"
   ]
  },
  {
   "cell_type": "markdown",
   "id": "44dd619f",
   "metadata": {},
   "source": [
    "# Time Series Decomposition plots"
   ]
  },
  {
   "cell_type": "code",
   "execution_count": null,
   "id": "5ffb25c7",
   "metadata": {
    "ExecuteTime": {
     "end_time": "2022-10-17T10:23:04.553181Z",
     "start_time": "2022-10-17T10:23:04.553181Z"
    },
    "scrolled": false
   },
   "outputs": [],
   "source": [
    "decompose_ts_add = seasonal_decompose(gold_price['price'],extrapolate_trend='freq')\n",
    "decompose_ts_add.plot()\n",
    "plt.rcParams['figure.figsize'] = (12, 8)\n",
    "plt.show()"
   ]
  },
  {
   "cell_type": "code",
   "execution_count": null,
   "id": "45c9a1a3",
   "metadata": {
    "ExecuteTime": {
     "end_time": "2022-10-17T10:23:04.554183Z",
     "start_time": "2022-10-17T10:23:04.554183Z"
    },
    "scrolled": false
   },
   "outputs": [],
   "source": [
    "#for day ways \n",
    "#by considering only the one month data \n",
    "\n",
    "decompose_ts_add=seasonal_decompose(gold_price[:31])\n",
    "decompose_ts_add.plot()\n",
    "#plt.rcParams['figure.figsize'] = (12, 8)\n",
    "plt.show()"
   ]
  },
  {
   "cell_type": "code",
   "execution_count": null,
   "id": "f93d7916",
   "metadata": {
    "ExecuteTime": {
     "end_time": "2022-10-17T10:23:04.555176Z",
     "start_time": "2022-10-17T10:23:04.555176Z"
    }
   },
   "outputs": [],
   "source": [
    "#for day wise \n",
    "#considering the one year data\n",
    "decompose_ts_add=seasonal_decompose(gold_price[:365])\n",
    "decompose_ts_add.plot()\n",
    "plt.show()\n",
    "plt.rcParams['figure.figsize'] = (12, 8)"
   ]
  },
  {
   "cell_type": "markdown",
   "id": "575dceb6",
   "metadata": {},
   "source": [
    "from above decomposition plots we can say that \n",
    "our data is not following trend but there is a seasionality"
   ]
  },
  {
   "cell_type": "markdown",
   "id": "6e905266",
   "metadata": {},
   "source": [
    "# Distribution Plot"
   ]
  },
  {
   "cell_type": "code",
   "execution_count": null,
   "id": "62234807",
   "metadata": {
    "ExecuteTime": {
     "end_time": "2022-10-17T10:23:04.557171Z",
     "start_time": "2022-10-17T10:23:04.557171Z"
    }
   },
   "outputs": [],
   "source": [
    "sns.distplot(gold_price)"
   ]
  },
  {
   "cell_type": "markdown",
   "id": "cd436df2",
   "metadata": {},
   "source": [
    "# Splitting the data into train and test"
   ]
  },
  {
   "cell_type": "code",
   "execution_count": null,
   "id": "c4255e23",
   "metadata": {
    "ExecuteTime": {
     "end_time": "2022-10-17T10:23:04.559167Z",
     "start_time": "2022-10-17T10:23:04.559167Z"
    }
   },
   "outputs": [],
   "source": [
    "#splitting the data\n",
    "Train = gold_price.head(2039)\n",
    "Test = gold_price.tail(143)"
   ]
  },
  {
   "cell_type": "raw",
   "id": "a8baa142",
   "metadata": {},
   "source": [
    "2039+143=2182\n",
    "#here we are considering only 10% data for test"
   ]
  },
  {
   "cell_type": "code",
   "execution_count": null,
   "id": "ce47c647",
   "metadata": {
    "ExecuteTime": {
     "end_time": "2022-10-17T10:23:04.561175Z",
     "start_time": "2022-10-17T10:23:04.561175Z"
    }
   },
   "outputs": [],
   "source": [
    "Train"
   ]
  },
  {
   "cell_type": "code",
   "execution_count": null,
   "id": "1a8a5c5e",
   "metadata": {
    "ExecuteTime": {
     "end_time": "2022-10-17T10:23:04.563155Z",
     "start_time": "2022-10-17T10:23:04.563155Z"
    }
   },
   "outputs": [],
   "source": [
    "Test"
   ]
  },
  {
   "cell_type": "markdown",
   "id": "ff0687cb",
   "metadata": {},
   "source": [
    "# Moving average"
   ]
  },
  {
   "cell_type": "code",
   "execution_count": null,
   "id": "7a20ecdb",
   "metadata": {
    "ExecuteTime": {
     "end_time": "2022-10-17T10:23:04.566160Z",
     "start_time": "2022-10-17T10:23:04.566160Z"
    },
    "scrolled": true
   },
   "outputs": [],
   "source": [
    "plt.figure(figsize=(14,4))\n",
    "gold_price.price.plot(label='org')\n",
    "plt.title('Original Series')\n",
    "\n",
    "for i in range (25,35):\n",
    "    plt.figure(figsize=(14,4))\n",
    "     \n",
    "    gold_price['price'].rolling(i).mean().plot(label=str(i))\n",
    "    plt.title('Moving Average : '+str(i))\n",
    "    plt.legend(loc='best')\n",
    "    plt.show()"
   ]
  },
  {
   "cell_type": "code",
   "execution_count": null,
   "id": "0f8a208f",
   "metadata": {},
   "outputs": [],
   "source": []
  },
  {
   "cell_type": "code",
   "execution_count": null,
   "id": "2bce17ef",
   "metadata": {
    "ExecuteTime": {
     "end_time": "2022-10-17T10:23:04.568144Z",
     "start_time": "2022-10-17T10:23:04.568144Z"
    }
   },
   "outputs": [],
   "source": [
    "import warnings\n",
    "warnings.filterwarnings('ignore')"
   ]
  },
  {
   "cell_type": "markdown",
   "id": "b0e2d9b7",
   "metadata": {},
   "source": [
    "# Evaluation Metric MAPE"
   ]
  },
  {
   "cell_type": "raw",
   "id": "f7ccf332",
   "metadata": {},
   "source": [
    "MAPE = Mean Absolute Percentage Error"
   ]
  },
  {
   "cell_type": "code",
   "execution_count": null,
   "id": "9ed9ffe6",
   "metadata": {
    "ExecuteTime": {
     "end_time": "2022-10-17T10:23:04.570137Z",
     "start_time": "2022-10-17T10:23:04.570137Z"
    }
   },
   "outputs": [],
   "source": [
    "def MAPE(pred,org):\n",
    "    temp = np.abs((pred-org)/org)*100\n",
    "    return np.mean(temp)"
   ]
  },
  {
   "cell_type": "markdown",
   "id": "aa1ec7e7",
   "metadata": {},
   "source": [
    "# Model Preparation for forecasting"
   ]
  },
  {
   "cell_type": "markdown",
   "id": "a3355582",
   "metadata": {},
   "source": [
    "# Data Driven forecasting "
   ]
  },
  {
   "cell_type": "raw",
   "id": "c0af4c4f",
   "metadata": {},
   "source": [
    "There are three types in data driven forcasting \n",
    "1.Simple Exponential Method \n",
    "   -->it is only valid for the data where there is no trend and seasionality\n",
    "2.Double or Holt Exponential Method\n",
    "   -->it is only valid for the data where there only trend\n",
    "3.Triple or Holt Winter Exponential model\n",
    "   -->it is only valid for the data where there both trend and seasionality"
   ]
  },
  {
   "cell_type": "raw",
   "id": "fa35d333",
   "metadata": {},
   "source": [
    "Since our data is having only seasionality so we not using the data driven forecasting methods insteed we use the model based forecasting techniques "
   ]
  },
  {
   "cell_type": "markdown",
   "id": "e76858e7",
   "metadata": {},
   "source": [
    "# Model Based or Driven Forcasting technique"
   ]
  },
  {
   "cell_type": "raw",
   "id": "f6e9001c",
   "metadata": {},
   "source": [
    "There are three types of model driven forecasting technique\n",
    "1.AR[Auto-regression]\n",
    "  -->it can pridict only based on the previous data \n",
    "2.MA[Moving Average]\n",
    "  -->it can predict only based on error or the external factor\n",
    "3.ARMA [Auto-Regression Moving Average]\n",
    "  -->it can predict based on the past data and the error or external factor"
   ]
  },
  {
   "cell_type": "raw",
   "id": "e1cffcc8",
   "metadata": {},
   "source": [
    "Since we have another model called ARIMA "
   ]
  },
  {
   "cell_type": "markdown",
   "id": "cba8a48f",
   "metadata": {},
   "source": [
    "# Using the data driven models"
   ]
  },
  {
   "cell_type": "markdown",
   "id": "9c0ead3c",
   "metadata": {},
   "source": [
    "# Simple Exponential Method "
   ]
  },
  {
   "cell_type": "code",
   "execution_count": null,
   "id": "3559aceb",
   "metadata": {
    "ExecuteTime": {
     "end_time": "2022-10-17T10:23:04.571133Z",
     "start_time": "2022-10-17T10:23:04.571133Z"
    }
   },
   "outputs": [],
   "source": [
    "#checking for the best smoothing "
   ]
  },
  {
   "cell_type": "code",
   "execution_count": null,
   "id": "0e2d49ff",
   "metadata": {
    "ExecuteTime": {
     "end_time": "2022-10-17T10:23:04.572146Z",
     "start_time": "2022-10-17T10:23:04.572146Z"
    }
   },
   "outputs": [],
   "source": [
    "import numpy as np\n",
    "x=np.linspace(0.1,1,20)\n",
    "for i in x :\n",
    "    ses_model = SimpleExpSmoothing(Train[\"price\"]).fit(smoothing_level=i)\n",
    "    pred_ses = ses_model.predict(start = Test.index[0],end = Test.index[-1])\n",
    "    score=MAPE(pred_ses,Test.price) \n",
    "    print(\"smoothing_level \",i,\"-->\",\"MAPE Error\",score)\n"
   ]
  },
  {
   "cell_type": "code",
   "execution_count": null,
   "id": "5c3e93f3",
   "metadata": {
    "ExecuteTime": {
     "end_time": "2022-10-17T10:23:04.576120Z",
     "start_time": "2022-10-17T10:23:04.576120Z"
    },
    "scrolled": true
   },
   "outputs": [],
   "source": [
    "ses_model = SimpleExpSmoothing(Train['price']).fit(smoothing_level=0.2)\n",
    "pred_ses = ses_model.predict(start=Test.index[0] , end=Test.index[-1])\n",
    "simple_exp_model=MAPE(pred_ses , Test.price)\n",
    "simple_exp_model"
   ]
  },
  {
   "cell_type": "code",
   "execution_count": null,
   "id": "ab4478e7",
   "metadata": {},
   "outputs": [],
   "source": []
  },
  {
   "cell_type": "markdown",
   "id": "41b892f9",
   "metadata": {},
   "source": [
    "# Double or holt exponential method"
   ]
  },
  {
   "cell_type": "code",
   "execution_count": null,
   "id": "8d68b70e",
   "metadata": {
    "ExecuteTime": {
     "end_time": "2022-10-17T10:23:04.579113Z",
     "start_time": "2022-10-17T10:23:04.578114Z"
    }
   },
   "outputs": [],
   "source": [
    "import numpy as np\n",
    "alphas=np.arange(0.1,1,0.9/10)\n",
    "betas=np.arange(0.1,1,0.9/10)\n",
    "l=[]\n",
    "for i in alphas :\n",
    "    for j in betas:\n",
    "        hw_model = Holt(Train[\"price\"]).fit(smoothing_level=i, smoothing_slope=j)\n",
    "        pred_hw = hw_model.predict(start = Test.index[0],end = Test.index[-1])\n",
    "        score=MAPE(pred_hw,Test.price)\n",
    "        print(\"smoothing_level \",i,\" smoothing_slope\",j,\"-->\",\"MAPE Error\",score)\n",
    "        l.append((i,j,score))\n",
    "        \n",
    "        "
   ]
  },
  {
   "cell_type": "code",
   "execution_count": null,
   "id": "f36109da",
   "metadata": {
    "ExecuteTime": {
     "end_time": "2022-10-17T10:23:04.581115Z",
     "start_time": "2022-10-17T10:23:04.581115Z"
    }
   },
   "outputs": [],
   "source": [
    "hw_model = Holt(Train['price']).fit(smoothing_level=0.5,smoothing_slope =0.5)\n",
    "pred_hw = hw_model.predict(start=Test.index[0],end=Test.index[-1])\n",
    "double_exp_model=MAPE(pred_hw,Test.price)\n",
    "double_exp_model"
   ]
  },
  {
   "cell_type": "code",
   "execution_count": null,
   "id": "6ac7cd04",
   "metadata": {},
   "outputs": [],
   "source": []
  },
  {
   "cell_type": "markdown",
   "id": "7f311e48",
   "metadata": {},
   "source": [
    "# triple  or Holt Winner Exponential Method"
   ]
  },
  {
   "cell_type": "code",
   "execution_count": null,
   "id": "f635fbd5",
   "metadata": {},
   "outputs": [],
   "source": []
  },
  {
   "cell_type": "code",
   "execution_count": null,
   "id": "7e9ebaf2",
   "metadata": {
    "ExecuteTime": {
     "end_time": "2022-10-17T10:23:04.583101Z",
     "start_time": "2022-10-17T10:23:04.583101Z"
    }
   },
   "outputs": [],
   "source": [
    "#seasonal =additive ,trend=additive"
   ]
  },
  {
   "cell_type": "code",
   "execution_count": null,
   "id": "6461f772",
   "metadata": {
    "ExecuteTime": {
     "end_time": "2022-10-17T10:23:04.586094Z",
     "start_time": "2022-10-17T10:23:04.586094Z"
    }
   },
   "outputs": [],
   "source": [
    "hwe_model_add_add = ExponentialSmoothing(Train['price'],seasonal='add',trend='add',seasonal_periods=31).fit()\n",
    "pred_hwe_add_add = hwe_model_add_add.predict(start=Test.index[0],end=Test.index[-1])\n",
    "triple_exp_add_add=MAPE(pred_hwe_add_add,Test.price)\n",
    "triple_exp_add_add"
   ]
  },
  {
   "cell_type": "code",
   "execution_count": null,
   "id": "c686bee8",
   "metadata": {
    "ExecuteTime": {
     "end_time": "2022-10-17T10:23:04.588089Z",
     "start_time": "2022-10-17T10:23:04.588089Z"
    }
   },
   "outputs": [],
   "source": [
    "fc=hwe_model_add_add.forecast(143)\n",
    "# Make as pandas series\n",
    "fc_series = pd.Series(fc, index=Test.index)\n",
    "#lower_series = pd.Series(conf[:, 0], index=test.index)\n",
    "#upper_series = pd.Series(conf[:, 1], index=test.index)\n",
    "\n",
    "\n",
    "# Plot\n",
    "plt.figure(figsize=(12,5), dpi=100)\n",
    "plt.plot(Train, label='training')\n",
    "plt.plot(Test, label='actual')\n",
    "plt.plot(fc_series, label='forecast')\n",
    "#plt.fill_between(lower_series.index, upper_series, \n",
    "                 #color='k', alpha=.15)\n",
    "plt.title('Forecast vs Actuals')\n",
    "plt.legend(loc='upper left', fontsize=8)\n",
    "plt.show()"
   ]
  },
  {
   "cell_type": "code",
   "execution_count": null,
   "id": "524adb16",
   "metadata": {
    "ExecuteTime": {
     "end_time": "2022-10-17T10:23:04.591080Z",
     "start_time": "2022-10-17T10:23:04.591080Z"
    }
   },
   "outputs": [],
   "source": [
    "fc=hwe_model_add_add.forecast(143)\n",
    "# Make as pandas series\n",
    "fc_series = pd.Series(fc, index=Test.index)\n",
    "#lower_series = pd.Series(conf[:, 0], index=test.index)\n",
    "#upper_series = pd.Series(conf[:, 1], index=test.index)\n",
    "\n",
    "\n",
    "# Plot\n",
    "plt.figure(figsize=(12,5), dpi=100)\n",
    "#plt.plot(Train, label='training')\n",
    "plt.plot(Test, label='actual')\n",
    "plt.plot(fc_series, label='forecast')\n",
    "#plt.fill_between(lower_series.index, upper_series, \n",
    "                 #color='k', alpha=.15)\n",
    "plt.title('Forecast vs Actuals')\n",
    "plt.legend(loc='upper left', fontsize=8)\n",
    "plt.show()"
   ]
  },
  {
   "cell_type": "code",
   "execution_count": null,
   "id": "0eacd5e5",
   "metadata": {
    "ExecuteTime": {
     "end_time": "2022-10-17T10:23:04.593076Z",
     "start_time": "2022-10-17T10:23:04.593076Z"
    }
   },
   "outputs": [],
   "source": [
    "#seasonal=multiplicative , trend=additive"
   ]
  },
  {
   "cell_type": "code",
   "execution_count": null,
   "id": "d5ab58d1",
   "metadata": {
    "ExecuteTime": {
     "end_time": "2022-10-17T10:23:04.595070Z",
     "start_time": "2022-10-17T10:23:04.595070Z"
    }
   },
   "outputs": [],
   "source": [
    "hwe_model_mul_add = ExponentialSmoothing(Train['price'],seasonal='mul',trend='add',seasonal_periods=31).fit()\n",
    "pred_hwe_mul_add= hwe_model_mul_add.predict(start=Test.index[0],end=Test.index[-1])\n",
    "triple_exp_mul_add=MAPE(pred_hwe_mul_add,Test.price)\n",
    "triple_exp_mul_add"
   ]
  },
  {
   "cell_type": "code",
   "execution_count": null,
   "id": "59868153",
   "metadata": {
    "ExecuteTime": {
     "end_time": "2022-10-17T10:23:04.597064Z",
     "start_time": "2022-10-17T10:23:04.596068Z"
    }
   },
   "outputs": [],
   "source": [
    "fc=hwe_model_mul_add.forecast(143)\n",
    "# Make as pandas series\n",
    "fc_series = pd.Series(fc, index=Test.index)\n",
    "#lower_series = pd.Series(conf[:, 0], index=test.index)\n",
    "#upper_series = pd.Series(conf[:, 1], index=test.index)\n",
    "\n",
    "# Plot\n",
    "plt.figure(figsize=(12,5), dpi=100)\n",
    "plt.plot(Train, label='training')\n",
    "plt.plot(Test, label='testing')\n",
    "plt.plot(fc_series, label='forecast')\n",
    "#plt.fill_between(lower_series.index, upper_series, \n",
    "                 #color='k', alpha=.15)\n",
    "plt.title('Forecast vs Actuals')\n",
    "plt.legend(loc='upper left', fontsize=8)\n",
    "plt.show()"
   ]
  },
  {
   "cell_type": "code",
   "execution_count": null,
   "id": "e3a88b61",
   "metadata": {
    "ExecuteTime": {
     "end_time": "2022-10-17T10:23:04.598061Z",
     "start_time": "2022-10-17T10:23:04.598061Z"
    }
   },
   "outputs": [],
   "source": [
    "fc=hwe_model_mul_add.forecast(143)\n",
    "# Make as pandas series\n",
    "fc_series = pd.Series(fc, index=Test.index)\n",
    "#lower_series = pd.Series(conf[:, 0], index=test.index)\n",
    "#upper_series = pd.Series(conf[:, 1], index=test.index)\n",
    "\n",
    "# Plot\n",
    "plt.figure(figsize=(12,5), dpi=100)\n",
    "#plt.plot(Train, label='training')\n",
    "plt.plot(Test, label='testing')\n",
    "plt.plot(fc_series, label='forecast')\n",
    "#plt.fill_between(lower_series.index, upper_series, \n",
    "                 #color='k', alpha=.15)\n",
    "plt.title('Forecast vs Actuals')\n",
    "plt.legend(loc='upper left', fontsize=8)\n",
    "plt.show()"
   ]
  },
  {
   "cell_type": "code",
   "execution_count": null,
   "id": "a96aa245",
   "metadata": {
    "ExecuteTime": {
     "end_time": "2022-10-17T10:23:04.599058Z",
     "start_time": "2022-10-17T10:23:04.599058Z"
    }
   },
   "outputs": [],
   "source": [
    "#seasonal = additive , trend = multiplicative"
   ]
  },
  {
   "cell_type": "code",
   "execution_count": null,
   "id": "63a4356b",
   "metadata": {
    "ExecuteTime": {
     "end_time": "2022-10-17T10:23:04.600056Z",
     "start_time": "2022-10-17T10:23:04.600056Z"
    }
   },
   "outputs": [],
   "source": [
    "hwe_model_add_mul = ExponentialSmoothing(Train['price'],seasonal='add',trend='mul',seasonal_periods=31).fit()\n",
    "pred_hwe_add_mul = hwe_model_add_mul.predict(start=Test.index[0],end=Test.index[-1])\n",
    "triple_exp_add_mul=MAPE(pred_hwe_add_mul,Test.price)\n",
    "triple_exp_add_mul"
   ]
  },
  {
   "cell_type": "code",
   "execution_count": null,
   "id": "42ba4070",
   "metadata": {
    "ExecuteTime": {
     "end_time": "2022-10-17T10:23:04.603047Z",
     "start_time": "2022-10-17T10:23:04.603047Z"
    }
   },
   "outputs": [],
   "source": [
    "fc=hwe_model_add_mul.forecast(143)\n",
    "# Make as pandas series\n",
    "fc_series = pd.Series(fc, index=Test.index)\n",
    "#lower_series = pd.Series(conf[:, 0], index=test.index)\n",
    "#upper_series = pd.Series(conf[:, 1], index=test.index)\n",
    "\n",
    "# Plot\n",
    "plt.figure(figsize=(12,5), dpi=100)\n",
    "plt.plot(Train, label='training')\n",
    "plt.plot(Test, label='actual')\n",
    "plt.plot(fc_series, label='forecast')\n",
    "#plt.fill_between(lower_series.index, upper_series, \n",
    "                 #color='k', alpha=.15)\n",
    "plt.title('Forecast vs Actuals')\n",
    "plt.legend(loc='upper left', fontsize=8)\n",
    "plt.show()"
   ]
  },
  {
   "cell_type": "code",
   "execution_count": null,
   "id": "e974190a",
   "metadata": {
    "ExecuteTime": {
     "end_time": "2022-10-17T10:23:04.604046Z",
     "start_time": "2022-10-17T10:23:04.604046Z"
    }
   },
   "outputs": [],
   "source": [
    "fc=hwe_model_add_mul.forecast(143)\n",
    "# Make as pandas series\n",
    "fc_series = pd.Series(fc, index=Test.index)\n",
    "#lower_series = pd.Series(conf[:, 0], index=test.index)\n",
    "#upper_series = pd.Series(conf[:, 1], index=test.index)\n",
    "\n",
    "# Plot\n",
    "plt.figure(figsize=(12,5), dpi=100)\n",
    "#plt.plot(Train, label='training')\n",
    "plt.plot(Test, label='actual')\n",
    "plt.plot(fc_series, label='forecast')\n",
    "#plt.fill_between(lower_series.index, upper_series, \n",
    "                 #color='k', alpha=.15)\n",
    "plt.title('Forecast vs Actuals')\n",
    "plt.legend(loc='upper left', fontsize=8)\n",
    "plt.show()"
   ]
  },
  {
   "cell_type": "code",
   "execution_count": null,
   "id": "a5f38b53",
   "metadata": {
    "ExecuteTime": {
     "end_time": "2022-10-17T10:23:04.605043Z",
     "start_time": "2022-10-17T10:23:04.605043Z"
    }
   },
   "outputs": [],
   "source": [
    "#seasonal = multiplicative , trend = multiplicative"
   ]
  },
  {
   "cell_type": "code",
   "execution_count": null,
   "id": "5c1a9459",
   "metadata": {
    "ExecuteTime": {
     "end_time": "2022-10-17T10:23:04.606040Z",
     "start_time": "2022-10-17T10:23:04.606040Z"
    }
   },
   "outputs": [],
   "source": [
    "hwe_model_mul_mul = ExponentialSmoothing(Train['price'],seasonal='mul',trend='mul',seasonal_periods=31).fit()\n",
    "pred_hwe_mul_mul = hwe_model_mul_mul.predict(start=Test.index[0],end=Test.index[-1])\n",
    "triple_exp_mul_mul=MAPE(pred_hwe_mul_mul,Test.price)\n",
    "triple_exp_mul_mul"
   ]
  },
  {
   "cell_type": "code",
   "execution_count": null,
   "id": "a69286cb",
   "metadata": {
    "ExecuteTime": {
     "end_time": "2022-10-17T10:23:04.607038Z",
     "start_time": "2022-10-17T10:23:04.607038Z"
    }
   },
   "outputs": [],
   "source": [
    "fc=hwe_model_mul_mul.forecast(143)\n",
    "# Make as pandas series\n",
    "fc_series = pd.Series(fc, index=Test.index)\n",
    "#lower_series = pd.Series(conf[:, 0], index=test.index)\n",
    "#upper_series = pd.Series(conf[:, 1], index=test.index)\n",
    "\n",
    "# Plot\n",
    "plt.figure(figsize=(12,5), dpi=100)\n",
    "plt.plot(Train, label='training')\n",
    "plt.plot(Test, label='actual')\n",
    "plt.plot(fc_series, label='forecast')\n",
    "#plt.fill_between(lower_series.index, upper_series, \n",
    "                 #color='k', alpha=.15)\n",
    "plt.title('Forecast vs Actuals')\n",
    "plt.legend(loc='upper left', fontsize=8)\n",
    "plt.show()"
   ]
  },
  {
   "cell_type": "code",
   "execution_count": null,
   "id": "e4f7f51f",
   "metadata": {
    "ExecuteTime": {
     "end_time": "2022-10-17T10:23:04.608036Z",
     "start_time": "2022-10-17T10:23:04.608036Z"
    }
   },
   "outputs": [],
   "source": [
    "fc=hwe_model_mul_mul.forecast(143)\n",
    "# Make as pandas series\n",
    "fc_series = pd.Series(fc, index=Test.index)\n",
    "#lower_series = pd.Series(conf[:, 0], index=test.index)\n",
    "#upper_series = pd.Series(conf[:, 1], index=test.index)\n",
    "\n",
    "# Plot\n",
    "plt.figure(figsize=(12,5), dpi=100)\n",
    "#plt.plot(Train, label='training')\n",
    "plt.plot(Test, label='actual')\n",
    "plt.plot(fc_series, label='forecast')\n",
    "#plt.fill_between(lower_series.index, upper_series, \n",
    "                 #color='k', alpha=.15)\n",
    "plt.title('Forecast vs Actuals')\n",
    "plt.legend(loc='upper left', fontsize=8)\n",
    "plt.show()"
   ]
  },
  {
   "cell_type": "markdown",
   "id": "abeb228a",
   "metadata": {},
   "source": [
    "# Model driven forcasting"
   ]
  },
  {
   "cell_type": "markdown",
   "id": "5f857a6c",
   "metadata": {},
   "source": [
    "# ARIMA and SARIMA\n"
   ]
  },
  {
   "cell_type": "raw",
   "id": "5872c96a",
   "metadata": {},
   "source": [
    "Autoregressive integrated moving average \n",
    "the general process for ARIMA model is \n",
    "-->Visualize the time series data \n",
    "-->Make the time series data into stationary \n",
    "-->Plot the correlation and autocorrelation charts \n",
    "-->construct the ARIMA model or SARIMA model based on the data\n",
    "-->use the model to make prediction"
   ]
  },
  {
   "cell_type": "code",
   "execution_count": null,
   "id": "3735473b",
   "metadata": {
    "ExecuteTime": {
     "end_time": "2022-10-17T10:23:04.609032Z",
     "start_time": "2022-10-17T10:23:04.609032Z"
    }
   },
   "outputs": [],
   "source": [
    "gold_price"
   ]
  },
  {
   "cell_type": "markdown",
   "id": "ba36986a",
   "metadata": {},
   "source": [
    "# Visualize the data"
   ]
  },
  {
   "cell_type": "code",
   "execution_count": null,
   "id": "8a1a0013",
   "metadata": {
    "ExecuteTime": {
     "end_time": "2022-10-17T10:23:04.610067Z",
     "start_time": "2022-10-17T10:23:04.610067Z"
    }
   },
   "outputs": [],
   "source": [
    "gold_price.plot()"
   ]
  },
  {
   "cell_type": "markdown",
   "id": "93902fdc",
   "metadata": {},
   "source": [
    "# Checking for the stationarity of the data"
   ]
  },
  {
   "cell_type": "markdown",
   "id": "35658968",
   "metadata": {},
   "source": [
    "# checking the stationarity by using the ADFuller technique"
   ]
  },
  {
   "cell_type": "code",
   "execution_count": null,
   "id": "c3bae0e5",
   "metadata": {
    "ExecuteTime": {
     "end_time": "2022-10-17T10:23:04.611027Z",
     "start_time": "2022-10-17T10:23:04.611027Z"
    }
   },
   "outputs": [],
   "source": [
    "#gold_price = adfuller(gold_price['price'])"
   ]
  },
  {
   "cell_type": "code",
   "execution_count": null,
   "id": "6109f038",
   "metadata": {
    "ExecuteTime": {
     "end_time": "2022-10-17T10:23:04.613020Z",
     "start_time": "2022-10-17T10:23:04.613020Z"
    }
   },
   "outputs": [],
   "source": [
    "#ADF Test nul hypothesis -non stationarity if p-value <5% reject null hypothesis\n",
    "adf = adfuller(gold_price['price'])[1]\n",
    "print(f'p value:{adf.round(4)}',',series is stationary' if adf<0.05 else ',series is non stationary')"
   ]
  },
  {
   "cell_type": "raw",
   "id": "558e97f4",
   "metadata": {},
   "source": [
    "since our data is non stationary because p value > than 0.05\n",
    "and making it stationary \n",
    "\n",
    "we are using the differencing method to convert my data to stationarity"
   ]
  },
  {
   "cell_type": "markdown",
   "id": "a1481f8d",
   "metadata": {},
   "source": [
    "# Differencing"
   ]
  },
  {
   "cell_type": "code",
   "execution_count": null,
   "id": "013197eb",
   "metadata": {
    "ExecuteTime": {
     "end_time": "2022-10-17T10:23:04.613020Z",
     "start_time": "2022-10-17T10:23:04.613020Z"
    }
   },
   "outputs": [],
   "source": [
    "stationary_gold_price = gold_price.diff(1).dropna()\n",
    "adf2 = adfuller(stationary_gold_price)[1]\n",
    "print(f'p value:{adf2}',',series is stationary' if adf2<0.05 else \",series is non stationary\")\n",
    "stationary_gold_price.plot()"
   ]
  },
  {
   "cell_type": "code",
   "execution_count": null,
   "id": "bb39b763",
   "metadata": {
    "ExecuteTime": {
     "end_time": "2022-10-17T10:23:04.614019Z",
     "start_time": "2022-10-17T10:23:04.614019Z"
    }
   },
   "outputs": [],
   "source": [
    "#sns.distplot(stationary_gold_price)"
   ]
  },
  {
   "cell_type": "markdown",
   "id": "79aaf03e",
   "metadata": {},
   "source": [
    "# Checking the Distribution of the data after differencing"
   ]
  },
  {
   "cell_type": "code",
   "execution_count": null,
   "id": "7ed8cd40",
   "metadata": {
    "ExecuteTime": {
     "end_time": "2022-10-17T10:23:04.616015Z",
     "start_time": "2022-10-17T10:23:04.616015Z"
    }
   },
   "outputs": [],
   "source": [
    "sns.distplot(stationary_gold_price)"
   ]
  },
  {
   "cell_type": "markdown",
   "id": "816c2651",
   "metadata": {},
   "source": [
    "from the above distplot we got to know that our data is normally distributed"
   ]
  },
  {
   "cell_type": "markdown",
   "id": "2d1b145c",
   "metadata": {},
   "source": [
    "# checking the stationarity by seeing the mean , standard deviation "
   ]
  },
  {
   "cell_type": "raw",
   "id": "95bf3b48",
   "metadata": {},
   "source": [
    "for stationarity our mean and standard deviation should be in a same line or manner "
   ]
  },
  {
   "cell_type": "raw",
   "id": "e7e8c404",
   "metadata": {
    "ExecuteTime": {
     "end_time": "2022-07-21T05:23:21.340637Z",
     "start_time": "2022-07-21T05:23:21.154568Z"
    }
   },
   "source": [
    "#here we are considering the window size 7 (weekly)\n",
    "rollmean = gold_price['price'].rolling(7).mean()\n",
    "rollstd = gold_price['price'].rolling(7).std()\n",
    "\n",
    "plt.figure(figsize=(16,7))\n",
    "fig = plt.figure(1)\n",
    "\n",
    "#plot rolling statistics\n",
    "orig = plt.plot(gold_price['price'],color='blue',label='Original')\n",
    "mean = plt.plot(rollmean,color='red',label='Rolling mean')\n",
    "std = plt.plot(rollstd,color='black',label='Rolling Std')\n",
    "plt.legend(loc='best')\n",
    "plt.title('Rolling Mean and Standard Deviation')\n",
    "plt.show(block=False)\n",
    "\n"
   ]
  },
  {
   "cell_type": "raw",
   "id": "f4f10282",
   "metadata": {
    "ExecuteTime": {
     "end_time": "2022-07-13T10:17:11.868261Z",
     "start_time": "2022-07-13T10:17:11.661358Z"
    }
   },
   "source": [
    "#here we are considering the window size 31 (monthly)\n",
    "rollmean = gold_price['price'].rolling(31).mean()\n",
    "rollstd = gold_price['price'].rolling(31).std()\n",
    "\n",
    "plt.figure(figsize=(16,7))\n",
    "fig = plt.figure(1)\n",
    "\n",
    "#plot rolling statistics\n",
    "orig = plt.plot(gold_price['price'],color='blue',label='Original')\n",
    "mean = plt.plot(rollmean,color='red',label='Rolling mean')\n",
    "std = plt.plot(rollstd,color='black',label='Rolling Std')\n",
    "plt.legend(loc='best')\n",
    "plt.title('Rolling Mean and Standard Deviation')\n",
    "plt.show(block=False)\n",
    "\n"
   ]
  },
  {
   "cell_type": "markdown",
   "id": "81aceb99",
   "metadata": {},
   "source": [
    "# Differencing"
   ]
  },
  {
   "cell_type": "raw",
   "id": "fbd8fa69",
   "metadata": {},
   "source": [
    "#by using the differencing technique we can standarise the data\n",
    "\n",
    "if our mean and standard deviation lie in a same manner we are saying that our data is stationary"
   ]
  },
  {
   "cell_type": "markdown",
   "id": "4b078ab5",
   "metadata": {
    "ExecuteTime": {
     "end_time": "2022-07-19T02:55:36.033129Z",
     "start_time": "2022-07-19T02:55:35.822571Z"
    }
   },
   "source": [
    " #differencing value d=1\n",
    "plt.figure(figsize=(16,7))\n",
    "fig = plt.figure(1)\n",
    "gold_price_diff = gold_price.price - gold_price.price.shift(periods=1)\n",
    "plt.plot(gold_price_diff)\n",
    "\n",
    "#Determing rolling statistics \n",
    "rollingmean = gold_price_diff.rolling(7).mean()\n",
    "rollingstd = gold_price_diff.rolling(7).std()\n",
    "\n",
    "#plot rolling statistics :\n",
    "orig = plt.plot(gold_price_diff,color='blue' , label='Original')\n",
    "mean = plt.plot(rollingmean , color='red' , label='Rolling mean')\n",
    "std = plt.plot(rollingstd , color='black',label = 'Rolling std')\n",
    "plt.legend(loc='best')\n",
    "plt.title('Rolling mean and rolling std after diff')\n",
    "plt.show(block=False)"
   ]
  },
  {
   "cell_type": "raw",
   "id": "94202b57",
   "metadata": {
    "ExecuteTime": {
     "end_time": "2022-07-13T10:17:17.502691Z",
     "start_time": "2022-07-13T10:17:17.283282Z"
    }
   },
   "source": [
    "plt.figure(figsize=(16,7))\n",
    "fig = plt.figure(1)\n",
    "gold_price_diff = gold_price.price[:365] - gold_price.price[:365].shift(periods=1)\n",
    "plt.plot(gold_price_diff)\n",
    "\n",
    "#Determing rolling statistics \n",
    "rollingmean = gold_price_diff.rolling(7).mean()\n",
    "rollingstd = gold_price_diff.rolling(7).std()\n",
    "\n",
    "#plot rolling statistics :\n",
    "orig = plt.plot(gold_price_diff,color='blue' , label='Original')\n",
    "mean = plt.plot(rollingmean , color='red' , label='Rolling mean')\n",
    "std = plt.plot(rollingstd , color='black',label = 'Rolling std')\n",
    "plt.legend(loc='best')\n",
    "plt.title('Rolling mean and rolling std after diff')\n",
    "plt.show(block=False)"
   ]
  },
  {
   "cell_type": "code",
   "execution_count": null,
   "id": "7528f3f8",
   "metadata": {},
   "outputs": [],
   "source": []
  },
  {
   "cell_type": "markdown",
   "id": "316529ed",
   "metadata": {},
   "source": [
    "# Ploting the Auto-correlation plot"
   ]
  },
  {
   "cell_type": "raw",
   "id": "64ca05d2",
   "metadata": {},
   "source": [
    "Identification of AR model is often best done with PACF.\n",
    "-->For AR model the theretical PACF 'shuts off' past the order of the model.\n",
    "\n",
    "\n",
    "Identification of the MA model is often best done with ACF rather than PACF\n",
    "-->for an MA model the therotical PACF does not shut off but insteed tapers towards 0 in some manner"
   ]
  },
  {
   "cell_type": "raw",
   "id": "9177d8dc",
   "metadata": {},
   "source": [
    "p,d,q\n",
    "p=AR model lags\n",
    "d=differencing\n",
    "q=MA model lags"
   ]
  },
  {
   "cell_type": "markdown",
   "id": "8ab687b6",
   "metadata": {},
   "source": [
    "# ACF plots and PACF plots"
   ]
  },
  {
   "cell_type": "raw",
   "id": "3105957a",
   "metadata": {},
   "source": [
    "#for original data"
   ]
  },
  {
   "cell_type": "code",
   "execution_count": null,
   "id": "03994e96",
   "metadata": {
    "ExecuteTime": {
     "end_time": "2022-10-17T10:23:04.617013Z",
     "start_time": "2022-10-17T10:23:04.617013Z"
    }
   },
   "outputs": [],
   "source": [
    "tsa_plots.plot_acf(gold_price.price)\n",
    "tsa_plots.plot_pacf(gold_price.price)\n",
    "plt.show()"
   ]
  },
  {
   "cell_type": "markdown",
   "id": "90f848fa",
   "metadata": {},
   "source": [
    "# ACF and PACF plots for data after considering the differencing  "
   ]
  },
  {
   "cell_type": "code",
   "execution_count": null,
   "id": "e87698be",
   "metadata": {
    "ExecuteTime": {
     "end_time": "2022-10-17T10:23:04.618010Z",
     "start_time": "2022-10-17T10:23:04.618010Z"
    }
   },
   "outputs": [],
   "source": [
    "tsa_plots.plot_acf(stationary_gold_price.price)\n",
    "tsa_plots.plot_pacf(stationary_gold_price.price)\n",
    "plt.show()"
   ]
  },
  {
   "cell_type": "code",
   "execution_count": null,
   "id": "4cf9df19",
   "metadata": {},
   "outputs": [],
   "source": []
  },
  {
   "cell_type": "markdown",
   "id": "7f42b3af",
   "metadata": {},
   "source": [
    "# Creating the ARMA Model"
   ]
  },
  {
   "cell_type": "code",
   "execution_count": null,
   "id": "78cebac7",
   "metadata": {},
   "outputs": [],
   "source": []
  },
  {
   "cell_type": "markdown",
   "id": "70157e68",
   "metadata": {},
   "source": [
    "# creating the ARIMA model"
   ]
  },
  {
   "cell_type": "code",
   "execution_count": null,
   "id": "f2d304d9",
   "metadata": {
    "ExecuteTime": {
     "end_time": "2022-10-17T10:23:04.619007Z",
     "start_time": "2022-10-17T10:23:04.619007Z"
    }
   },
   "outputs": [],
   "source": [
    "#for non seasonal data\n",
    "#p=1,d=1,q=1"
   ]
  },
  {
   "cell_type": "code",
   "execution_count": null,
   "id": "6b55a767",
   "metadata": {
    "ExecuteTime": {
     "end_time": "2022-10-17T10:23:04.620012Z",
     "start_time": "2022-10-17T10:23:04.620012Z"
    }
   },
   "outputs": [],
   "source": [
    "from statsmodels.tsa.arima.model import ARIMA\n",
    "\n",
    "arima_model_train_1_1 = ARIMA(Train.price , order=(1,1,1)).fit()\n",
    "\n",
    "pred_arima = arima_model_train_1_1.predict(start=Test.index[0],end=Test.index[-1])\n",
    "ARIMA_MODEL_TRAIN_1_1=MAPE(pred_arima , Test.price)\n",
    "ARIMA_MODEL_TRAIN_1_1"
   ]
  },
  {
   "cell_type": "code",
   "execution_count": null,
   "id": "c60072eb",
   "metadata": {
    "ExecuteTime": {
     "end_time": "2022-10-17T10:23:04.621001Z",
     "start_time": "2022-10-17T10:23:04.621001Z"
    }
   },
   "outputs": [],
   "source": [
    "fc=arima_model_train_1_1.forecast(143)\n",
    "# Make as pandas series\n",
    "fc_series = pd.Series(fc, index=Test.index)\n",
    "#lower_series = pd.Series(conf[:, 0], index=test.index)\n",
    "#upper_series = pd.Series(conf[:, 1], index=test.index)\n",
    "\n",
    "# Plot\n",
    "plt.figure(figsize=(12,5), dpi=100)\n",
    "plt.plot(Train, label='training')\n",
    "plt.plot(Test, label='actual')\n",
    "plt.plot(fc_series, label='forecast')\n",
    "#plt.fill_between(lower_series.index, upper_series, \n",
    "                 #color='k', alpha=.15)\n",
    "plt.title('Forecast vs Actuals')\n",
    "plt.legend(loc='upper left', fontsize=8)\n",
    "plt.show()"
   ]
  },
  {
   "cell_type": "code",
   "execution_count": null,
   "id": "213736f7",
   "metadata": {
    "ExecuteTime": {
     "end_time": "2022-10-17T10:23:04.622000Z",
     "start_time": "2022-10-17T10:23:04.622000Z"
    }
   },
   "outputs": [],
   "source": [
    "#for non seasonal data\n",
    "#p=7,d=1,q=7"
   ]
  },
  {
   "cell_type": "code",
   "execution_count": null,
   "id": "bea31c9d",
   "metadata": {
    "ExecuteTime": {
     "end_time": "2022-10-17T10:23:04.622996Z",
     "start_time": "2022-10-17T10:23:04.622996Z"
    }
   },
   "outputs": [],
   "source": [
    "from statsmodels.tsa.arima.model import ARIMA\n",
    "\n",
    "arima_model_train_7_7 = ARIMA(Train.price , order=(7,1,7)).fit()\n",
    "\n",
    "pred_arima = arima_model_train_7_7.predict(start=Test.index[0],end=Test.index[-1])\n",
    "ARIMA_MODEL_TRAIN_7_7=MAPE(pred_arima , Test.price)\n",
    "ARIMA_MODEL_TRAIN_7_7"
   ]
  },
  {
   "cell_type": "code",
   "execution_count": null,
   "id": "1966b512",
   "metadata": {
    "ExecuteTime": {
     "end_time": "2022-10-17T10:23:04.624487Z",
     "start_time": "2022-10-17T10:23:04.624487Z"
    }
   },
   "outputs": [],
   "source": [
    "fc=arima_model_train_7_7.forecast(143)\n",
    "# Make as pandas series\n",
    "fc_series = pd.Series(fc, index=Test.index)\n",
    "#lower_series = pd.Series(conf[:, 0], index=test.index)\n",
    "#upper_series = pd.Series(conf[:, 1], index=test.index)\n",
    "\n",
    "# Plot\n",
    "plt.figure(figsize=(12,5), dpi=100)\n",
    "plt.plot(Train, label='training')\n",
    "plt.plot(Test, label='actual')\n",
    "plt.plot(fc_series, label='forecast')\n",
    "#plt.fill_between(lower_series.index, upper_series, \n",
    "                 #color='k', alpha=.15)\n",
    "plt.title('Forecast vs Actuals')\n",
    "plt.legend(loc='upper left', fontsize=8)\n",
    "plt.show()"
   ]
  },
  {
   "cell_type": "code",
   "execution_count": null,
   "id": "af0ba1ff",
   "metadata": {
    "ExecuteTime": {
     "end_time": "2022-10-17T10:23:04.624487Z",
     "start_time": "2022-10-17T10:23:04.624487Z"
    }
   },
   "outputs": [],
   "source": [
    "from statsmodels.tsa.arima.model import ARIMA\n",
    "\n",
    "arima_model_train_4_1 = ARIMA(Train.price , order=(4,1,1)).fit()\n",
    "\n",
    "pred_arima = arima_model_train_4_1.predict(start=Test.index[0],end=Test.index[-1])\n",
    "ARIMA_MODEL_TRAIN_4_1=MAPE(pred_arima , Test.price)\n",
    "ARIMA_MODEL_TRAIN_4_1"
   ]
  },
  {
   "cell_type": "code",
   "execution_count": null,
   "id": "1d6a51c7",
   "metadata": {
    "ExecuteTime": {
     "end_time": "2022-10-17T10:23:04.624487Z",
     "start_time": "2022-10-17T10:23:04.624487Z"
    }
   },
   "outputs": [],
   "source": [
    "fc=arima_model_train_4_1.forecast(143)\n",
    "# Make as pandas series\n",
    "fc_series = pd.Series(fc, index=Test.index)\n",
    "#lower_series = pd.Series(conf[:, 0], index=test.index)\n",
    "#upper_series = pd.Series(conf[:, 1], index=test.index)\n",
    "\n",
    "# Plot\n",
    "plt.figure(figsize=(12,5), dpi=100)\n",
    "#plt.plot(Train, label='training')\n",
    "plt.plot(Test, label='actual')\n",
    "plt.plot(fc_series, label='forecast')\n",
    "#plt.fill_between(lower_series.index, upper_series, \n",
    "                 #color='k', alpha=.15)\n",
    "plt.title('Forecast vs Actuals')\n",
    "plt.legend(loc='upper left', fontsize=8)\n",
    "plt.show()"
   ]
  },
  {
   "cell_type": "markdown",
   "id": "e729418e",
   "metadata": {},
   "source": [
    "# creating the SARIMA model"
   ]
  },
  {
   "cell_type": "code",
   "execution_count": null,
   "id": "3b54a6f0",
   "metadata": {
    "ExecuteTime": {
     "end_time": "2022-10-17T10:23:04.624487Z",
     "start_time": "2022-10-17T10:23:04.624487Z"
    }
   },
   "outputs": [],
   "source": [
    "sarima_model_train = sm.tsa.statespace.SARIMAX(Train['price'] , order=(1,1,1),seasonal_order=(1,1,1,7)).fit()\n",
    "pred_sarima = sarima_model_train.predict(start=Test.index[0] , end=Test.index[-1])\n",
    "SARIMA_MODEL=MAPE(pred_sarima , Test.price)\n",
    "SARIMA_MODEL"
   ]
  },
  {
   "cell_type": "code",
   "execution_count": null,
   "id": "ac1600a9",
   "metadata": {
    "ExecuteTime": {
     "end_time": "2022-10-17T10:23:04.624487Z",
     "start_time": "2022-10-17T10:23:04.624487Z"
    }
   },
   "outputs": [],
   "source": [
    "fc=sarima_model_train.forecast(143)\n",
    "# Make as pandas series\n",
    "fc_series = pd.Series(fc, index=Test.index)\n",
    "#lower_series = pd.Series(conf[:, 0], index=test.index)\n",
    "#upper_series = pd.Series(conf[:, 1], index=test.index)\n",
    "\n",
    "# Plot\n",
    "plt.figure(figsize=(12,5), dpi=100)\n",
    "plt.plot(Train, label='training')\n",
    "plt.plot(Test, label='actual')\n",
    "plt.plot(fc_series, label='forecast')\n",
    "plt.title('Forecast vs Actuals')\n",
    "plt.legend(loc='upper left', fontsize=8)\n",
    "plt.show()"
   ]
  },
  {
   "cell_type": "code",
   "execution_count": null,
   "id": "c71a790c",
   "metadata": {
    "ExecuteTime": {
     "end_time": "2022-10-17T10:23:04.624487Z",
     "start_time": "2022-10-17T10:23:04.624487Z"
    }
   },
   "outputs": [],
   "source": [
    "fc=sarima_model_train.forecast(143)\n",
    "# Make as pandas series\n",
    "fc_series = pd.Series(fc, index=Test.index)\n",
    "#lower_series = pd.Series(conf[:, 0], index=test.index)\n",
    "#upper_series = pd.Series(conf[:, 1], index=test.index)\n",
    "\n",
    "# Plot\n",
    "plt.figure(figsize=(12,5), dpi=100)\n",
    "#plt.plot(Train, label='training')\n",
    "plt.plot(Test, label='actual')\n",
    "plt.plot(fc_series, label='forecast')\n",
    "plt.title('Forecast vs Actuals')\n",
    "plt.legend(loc='upper left', fontsize=8)\n",
    "plt.show()"
   ]
  },
  {
   "cell_type": "code",
   "execution_count": null,
   "id": "1f94a5ed",
   "metadata": {},
   "outputs": [],
   "source": []
  },
  {
   "cell_type": "raw",
   "id": "6a2b3540",
   "metadata": {
    "ExecuteTime": {
     "end_time": "2022-07-13T11:13:36.828916Z",
     "start_time": "2022-07-13T11:13:35.244410Z"
    }
   },
   "source": [
    "model = sm.tsa.statespace.SARIMAX(gold_price['price'],order=(1,1,1),seasonal_order=(1,1,1,7))\n",
    "results = model.fit()"
   ]
  },
  {
   "cell_type": "code",
   "execution_count": null,
   "id": "095c65df",
   "metadata": {},
   "outputs": [],
   "source": []
  },
  {
   "cell_type": "markdown",
   "id": "8c7596bb",
   "metadata": {},
   "source": [
    "# Creating the data frame for error percentage"
   ]
  },
  {
   "cell_type": "code",
   "execution_count": null,
   "id": "8b2c82a1",
   "metadata": {
    "ExecuteTime": {
     "end_time": "2022-10-17T10:23:04.624487Z",
     "start_time": "2022-10-17T10:23:04.624487Z"
    }
   },
   "outputs": [],
   "source": [
    "Error_percentage = {\"MODEL\":pd.Series([\"Simple_exp_smoothing\",\"Holt_exponential_model\",\"Holt_winter_exp_smoothing_add_add\",\"Holt_wilter_exp_smoothing_mul_add\",\"Holt_wilter_exp_smoothing_add_mul\",'Holt_wilter_exp_smoothing_mul_mul',\"arima_model_train_1_1\",\"arima_model_train_7_7\",\"arima_model_train_31_31\",\"arima_model_train_4_1\",\"arima_model_train_1_4_1\",\"SARIMA_Model\"]),\n",
    "        \"MAPE_Values\":pd.Series([simple_exp_model,double_exp_model,triple_exp_add_add,triple_exp_mul_add,triple_exp_add_mul,triple_exp_mul_mul,ARIMA_MODEL_TRAIN_1_1,ARIMA_MODEL_TRAIN_7_7,ARIMA_MODEL_TRAIN_31_31,ARIMA_MODEL_TRAIN_4_1,SARIMA_MODEL])}\n",
    "table_MAPE=pd.DataFrame(Error_percentage)\n",
    "table_MAPE\n",
    "#table_MAPE.sort_values(['MAPE_Values'])"
   ]
  },
  {
   "cell_type": "raw",
   "id": "47e89fbd",
   "metadata": {},
   "source": [
    "#from the above dataframe we got to know that ARIMA model which has least error percentage so by using that model we can predict or forecast for next days"
   ]
  },
  {
   "cell_type": "raw",
   "id": "4bae24da",
   "metadata": {},
   "source": [
    "================================================================================================================================================================================================================================================================================================================================================================================================================================================================================================================================================================================================================================================================"
   ]
  },
  {
   "cell_type": "code",
   "execution_count": null,
   "id": "13d4e835",
   "metadata": {
    "ExecuteTime": {
     "end_time": "2022-10-17T10:23:04.624487Z",
     "start_time": "2022-10-17T10:23:04.624487Z"
    }
   },
   "outputs": [],
   "source": [
    "#predicting the values test by using the ARIMA_MODEL_TRAIN \n",
    "#predicting the values for the next 30 days for test data\n",
    "arima_model_train_31_31.forecast(143)"
   ]
  },
  {
   "cell_type": "raw",
   "id": "ff657d98",
   "metadata": {},
   "source": [
    "================================================================================================="
   ]
  },
  {
   "cell_type": "code",
   "execution_count": null,
   "id": "146d3935",
   "metadata": {
    "ExecuteTime": {
     "end_time": "2022-10-17T10:23:04.624487Z",
     "start_time": "2022-10-17T10:23:04.624487Z"
    }
   },
   "outputs": [],
   "source": [
    "gold_price"
   ]
  },
  {
   "cell_type": "code",
   "execution_count": null,
   "id": "1693c48a",
   "metadata": {
    "ExecuteTime": {
     "end_time": "2022-10-17T10:23:04.624487Z",
     "start_time": "2022-10-17T10:23:04.624487Z"
    }
   },
   "outputs": [],
   "source": [
    "#fitting the final model using the ARIMA model with p=7 , d=1 , q=7\n",
    "FINAL_ARIMA_MODEL= ARIMA(gold_price['price'], order=(7,1,7)).fit()"
   ]
  },
  {
   "cell_type": "code",
   "execution_count": null,
   "id": "02c8f304",
   "metadata": {
    "ExecuteTime": {
     "end_time": "2022-10-17T10:23:04.624487Z",
     "start_time": "2022-10-17T10:23:04.624487Z"
    }
   },
   "outputs": [],
   "source": [
    "FINAL_ARIMA_MODEL.forecast(30) "
   ]
  },
  {
   "cell_type": "code",
   "execution_count": null,
   "id": "0855b18f",
   "metadata": {
    "ExecuteTime": {
     "end_time": "2022-10-17T10:23:04.624487Z",
     "start_time": "2022-10-17T10:23:04.624487Z"
    }
   },
   "outputs": [],
   "source": [
    "Final_arima_model=FINAL_ARIMA_MODEL.forecast(30)\n",
    "#make pandas as series\n",
    "final_series = pd.Series(Final_arima_model)\n",
    "#ploting\n",
    "plt.figure(figsize=(12,5) , dpi=100)\n",
    "plt.plot(gold_price , label='Actual data')\n",
    "plt.plot(final_series,label='Forecasted data')\n",
    "plt.title('Actual data vs Forecasted data')\n",
    "plt.legend(loc='upper left' , fontsize=8)\n",
    "plt.show()\n",
    "#gold_price[['price', 'forecast']].plot(figsize=(12, 8))\n"
   ]
  },
  {
   "cell_type": "code",
   "execution_count": null,
   "id": "55e7ed24",
   "metadata": {
    "ExecuteTime": {
     "end_time": "2022-10-17T10:23:04.641158Z",
     "start_time": "2022-10-17T10:23:04.641158Z"
    }
   },
   "outputs": [],
   "source": [
    "Final_arima_model=FINAL_ARIMA_MODEL.forecast(30)\n",
    "#make pandas as series\n",
    "final_series = pd.Series(Final_arima_model)\n",
    "#ploting\n",
    "plt.figure(figsize=(12,5) , dpi=100)\n",
    "plt.plot(gold_price[1750:] , label='Actual data')\n",
    "plt.plot(final_series,label='Forecasted data')\n",
    "plt.title('Actual data vs Forecasted data')\n",
    "plt.legend(loc='upper left' , fontsize=8)\n",
    "plt.show()\n",
    "#gold_price[['price', 'forecast']].plot(figsize=(12, 8))\n"
   ]
  },
  {
   "cell_type": "code",
   "execution_count": null,
   "id": "00bc701b",
   "metadata": {},
   "outputs": [],
   "source": []
  },
  {
   "cell_type": "raw",
   "id": "170e4b8d",
   "metadata": {},
   "source": [
    "=================================================\n",
    "================================================= "
   ]
  },
  {
   "cell_type": "markdown",
   "id": "a9cf09de",
   "metadata": {
    "ExecuteTime": {
     "end_time": "2022-07-15T07:56:33.280134Z",
     "start_time": "2022-07-15T07:56:33.270125Z"
    }
   },
   "source": [
    "# Grid Search For the Hyper Parameters"
   ]
  },
  {
   "cell_type": "code",
   "execution_count": null,
   "id": "9761e9fe",
   "metadata": {
    "ExecuteTime": {
     "end_time": "2022-10-17T10:23:04.643154Z",
     "start_time": "2022-10-17T10:23:04.643154Z"
    }
   },
   "outputs": [],
   "source": [
    "# Import libraries\n",
    "\n",
    "from numpy import sqrt\n",
    "import warnings\n",
    "import itertools\n",
    "import pandas as pd\n",
    "import numpy as np\n",
    "import matplotlib.pyplot as plt\n",
    "import statsmodels.api as sm"
   ]
  },
  {
   "cell_type": "code",
   "execution_count": null,
   "id": "560270a8",
   "metadata": {
    "ExecuteTime": {
     "end_time": "2022-10-17T10:23:04.645149Z",
     "start_time": "2022-10-17T10:23:04.645149Z"
    }
   },
   "outputs": [],
   "source": [
    "# separate out a validation dataset\n",
    "split_point = len(stationary_gold_price) - 143\n",
    "dataset, validation = stationary_gold_price[0:split_point], stationary_gold_price[split_point:]\n",
    "print('Dataset %d, Validation %d' % (len(dataset), len(validation)))\n",
    "dataset.to_csv('dataset.csv', header=True)\n",
    "validation.to_csv('validation.csv', header=False)"
   ]
  },
  {
   "cell_type": "code",
   "execution_count": null,
   "id": "89c2a78d",
   "metadata": {
    "ExecuteTime": {
     "end_time": "2022-10-17T10:23:04.647141Z",
     "start_time": "2022-10-17T10:23:04.647141Z"
    }
   },
   "outputs": [],
   "source": [
    "# grid search ARIMA parameters for a time series\n",
    "\n",
    "import warnings\n",
    "from pandas import read_csv\n",
    "from statsmodels.tsa.arima_model import ARIMA\n",
    "from sklearn.metrics import mean_squared_error\n",
    "from math import sqrt\n",
    "\n",
    "\n",
    "# evaluate an ARIMA model for a given order (p=2,d=4,q=3) and return RMSE\n",
    "def evaluate_arima_model(X, arima_order):\n",
    "# prepare training dataset\n",
    "    X = X.astype('float32')\n",
    "    train_size = int(len(X) * 0.80)\n",
    "    train, test = X[0:train_size], X[train_size:]\n",
    "    history = [x for x in train]\n",
    "# make predictions\n",
    "    predictions = list()\n",
    "    for t in range(len(test)):\n",
    "        model = ARIMA(history, order=arima_order)\n",
    "# model_fit = model.fit(disp=0)\n",
    "        model_fit = model.fit()\n",
    "        yhat = model_fit.forecast()[0]\n",
    "        predictions.append(yhat)\n",
    "        history.append(test[t])\n",
    "# calculate out of sample error\n",
    "    mape = MAPE(test, predictions)\n",
    "    return mape"
   ]
  },
  {
   "cell_type": "code",
   "execution_count": null,
   "id": "0a31a602",
   "metadata": {
    "ExecuteTime": {
     "end_time": "2022-10-17T10:23:04.648139Z",
     "start_time": "2022-10-17T10:23:04.648139Z"
    }
   },
   "outputs": [],
   "source": [
    "# evaluate combinations of p, d and q values for an ARIMA model\n",
    "def evaluate_models(dataset, p_values, d_values, q_values):\n",
    "    dataset = dataset.astype('float32')\n",
    "    best_score, best_cfg = float('inf'), None\n",
    "    for p in p_values:\n",
    "        for d in d_values:\n",
    "            for q in q_values:\n",
    "                order = (p,d,q)\n",
    "                try:\n",
    "                    mape = evaluate_arima_model(train, order)\n",
    "                    if mape < best_score:\n",
    "                        best_score, best_cfg = mape, order\n",
    "                    print('ARIMA%s MAPE=%.3f' % (order,mape))\n",
    "                except Exception as e :\n",
    "                    print(e)\n",
    "                    continue\n",
    "    print('Best ARIMA%s MAPE=%.3f' % (best_cfg, best_score))"
   ]
  },
  {
   "cell_type": "code",
   "execution_count": null,
   "id": "647a2cfc",
   "metadata": {
    "ExecuteTime": {
     "end_time": "2022-10-17T10:23:04.650142Z",
     "start_time": "2022-10-17T10:23:04.650142Z"
    }
   },
   "outputs": [],
   "source": [
    "import statsmodels.api as sm"
   ]
  },
  {
   "cell_type": "code",
   "execution_count": null,
   "id": "9f791805",
   "metadata": {
    "ExecuteTime": {
     "end_time": "2022-10-17T10:23:04.651133Z",
     "start_time": "2022-10-17T10:23:04.651133Z"
    }
   },
   "outputs": [],
   "source": [
    "from statsmodels.tsa.arima.model import ARIMA"
   ]
  },
  {
   "cell_type": "code",
   "execution_count": null,
   "id": "9404de8c",
   "metadata": {
    "ExecuteTime": {
     "end_time": "2022-10-17T10:23:04.652130Z",
     "start_time": "2022-10-17T10:23:04.652130Z"
    }
   },
   "outputs": [],
   "source": [
    "# load dataset\n",
    "train = pd.read_csv('dataset.csv', index_col=0, parse_dates=True, squeeze=True)\n",
    "# evaluate parameters\n",
    "p_values = range(1, 5)\n",
    "d_values = range(1, 5)\n",
    "q_values = range(1, 5)\n",
    "warnings.filterwarnings(\"ignore\")\n",
    "evaluate_models(train.values, p_values, d_values, q_values)"
   ]
  },
  {
   "cell_type": "code",
   "execution_count": null,
   "id": "f12282a9",
   "metadata": {},
   "outputs": [],
   "source": []
  },
  {
   "cell_type": "code",
   "execution_count": null,
   "id": "216507d1",
   "metadata": {},
   "outputs": [],
   "source": []
  },
  {
   "cell_type": "code",
   "execution_count": null,
   "id": "02b25c46",
   "metadata": {},
   "outputs": [],
   "source": []
  },
  {
   "cell_type": "code",
   "execution_count": null,
   "id": "f176d4f6",
   "metadata": {},
   "outputs": [],
   "source": []
  },
  {
   "cell_type": "code",
   "execution_count": null,
   "id": "e972ae93",
   "metadata": {},
   "outputs": [],
   "source": []
  },
  {
   "cell_type": "code",
   "execution_count": null,
   "id": "83bcd703",
   "metadata": {},
   "outputs": [],
   "source": []
  },
  {
   "cell_type": "code",
   "execution_count": null,
   "id": "4be3b31d",
   "metadata": {},
   "outputs": [],
   "source": []
  },
  {
   "cell_type": "code",
   "execution_count": null,
   "id": "f2a2e907",
   "metadata": {},
   "outputs": [],
   "source": []
  }
 ],
 "metadata": {
  "kernelspec": {
   "display_name": "Python 3 (ipykernel)",
   "language": "python",
   "name": "python3"
  },
  "language_info": {
   "codemirror_mode": {
    "name": "ipython",
    "version": 3
   },
   "file_extension": ".py",
   "mimetype": "text/x-python",
   "name": "python",
   "nbconvert_exporter": "python",
   "pygments_lexer": "ipython3",
   "version": "3.9.7"
  },
  "varInspector": {
   "cols": {
    "lenName": 16,
    "lenType": 16,
    "lenVar": 40
   },
   "kernels_config": {
    "python": {
     "delete_cmd_postfix": "",
     "delete_cmd_prefix": "del ",
     "library": "var_list.py",
     "varRefreshCmd": "print(var_dic_list())"
    },
    "r": {
     "delete_cmd_postfix": ") ",
     "delete_cmd_prefix": "rm(",
     "library": "var_list.r",
     "varRefreshCmd": "cat(var_dic_list()) "
    }
   },
   "types_to_exclude": [
    "module",
    "function",
    "builtin_function_or_method",
    "instance",
    "_Feature"
   ],
   "window_display": false
  }
 },
 "nbformat": 4,
 "nbformat_minor": 5
}
