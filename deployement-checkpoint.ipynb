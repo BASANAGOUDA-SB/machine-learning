{
 "cells": [
  {
   "cell_type": "code",
   "execution_count": 1,
   "id": "26265c11",
   "metadata": {
    "ExecuteTime": {
     "end_time": "2022-11-02T08:50:05.476216Z",
     "start_time": "2022-11-02T08:49:45.570574Z"
    }
   },
   "outputs": [
    {
     "name": "stdout",
     "output_type": "stream",
     "text": [
      "Requirement already satisfied: streamlit in f:\\basu sb\\lib\\site-packages (1.10.0)\n",
      "Requirement already satisfied: tzlocal in f:\\basu sb\\lib\\site-packages (from streamlit) (4.2)\n",
      "Requirement already satisfied: pympler>=0.9 in f:\\basu sb\\lib\\site-packages (from streamlit) (1.0.1)\n",
      "Requirement already satisfied: tornado>=5.0 in f:\\basu sb\\lib\\site-packages (from streamlit) (6.2)\n",
      "Requirement already satisfied: semver in f:\\basu sb\\lib\\site-packages (from streamlit) (2.13.0)\n",
      "Requirement already satisfied: click>=7.0 in f:\\basu sb\\lib\\site-packages (from streamlit) (8.0.3)\n",
      "Requirement already satisfied: cachetools>=4.0 in f:\\basu sb\\lib\\site-packages (from streamlit) (5.2.0)\n",
      "Requirement already satisfied: packaging in f:\\basu sb\\lib\\site-packages (from streamlit) (21.0)\n",
      "Requirement already satisfied: pandas>=0.21.0 in f:\\basu sb\\lib\\site-packages (from streamlit) (1.3.4)\n",
      "Requirement already satisfied: rich in f:\\basu sb\\lib\\site-packages (from streamlit) (12.4.4)\n",
      "Requirement already satisfied: importlib-metadata>=1.4 in f:\\basu sb\\lib\\site-packages (from streamlit) (4.8.1)\n",
      "Requirement already satisfied: blinker in f:\\basu sb\\lib\\site-packages (from streamlit) (1.4)\n",
      "Requirement already satisfied: toml in f:\\basu sb\\lib\\site-packages (from streamlit) (0.10.2)\n",
      "Requirement already satisfied: altair>=3.2.0 in f:\\basu sb\\lib\\site-packages (from streamlit) (4.2.0)\n",
      "Requirement already satisfied: attrs in f:\\basu sb\\lib\\site-packages (from streamlit) (21.2.0)\n",
      "Requirement already satisfied: pydeck>=0.1.dev5 in f:\\basu sb\\lib\\site-packages (from streamlit) (0.7.1)\n",
      "Requirement already satisfied: validators in f:\\basu sb\\lib\\site-packages (from streamlit) (0.20.0)\n",
      "Requirement already satisfied: gitpython!=3.1.19 in f:\\basu sb\\lib\\site-packages (from streamlit) (3.1.27)\n",
      "Requirement already satisfied: python-dateutil in f:\\basu sb\\lib\\site-packages (from streamlit) (2.8.2)\n",
      "Requirement already satisfied: typing-extensions in f:\\basu sb\\lib\\site-packages (from streamlit) (3.7.4.3)\n",
      "Requirement already satisfied: requests in f:\\basu sb\\lib\\site-packages (from streamlit) (2.21.0)\n",
      "Requirement already satisfied: watchdog in f:\\basu sb\\lib\\site-packages (from streamlit) (2.1.3)\n",
      "Requirement already satisfied: protobuf<4,>=3.12 in f:\\basu sb\\lib\\site-packages (from streamlit) (3.19.4)\n",
      "Requirement already satisfied: pyarrow in f:\\basu sb\\lib\\site-packages (from streamlit) (8.0.0)\n",
      "Requirement already satisfied: pillow>=6.2.0 in f:\\basu sb\\lib\\site-packages (from streamlit) (9.2.0)\n",
      "Requirement already satisfied: numpy in f:\\basu sb\\lib\\site-packages (from streamlit) (1.19.5)\n",
      "Requirement already satisfied: jsonschema>=3.0 in f:\\basu sb\\lib\\site-packages (from altair>=3.2.0->streamlit) (3.2.0)\n",
      "Note: you may need to restart the kernel to use updated packages.\n",
      "Requirement already satisfied: entrypoints in f:\\basu sb\\lib\\site-packages (from altair>=3.2.0->streamlit) (0.3)\n",
      "Requirement already satisfied: jinja2 in f:\\basu sb\\lib\\site-packages (from altair>=3.2.0->streamlit) (2.11.3)\n",
      "Requirement already satisfied: toolz in f:\\basu sb\\lib\\site-packages (from altair>=3.2.0->streamlit) (0.11.1)\n",
      "Requirement already satisfied: colorama in f:\\basu sb\\lib\\site-packages (from click>=7.0->streamlit) (0.4.4)\n",
      "Requirement already satisfied: gitdb<5,>=4.0.1 in f:\\basu sb\\lib\\site-packages (from gitpython!=3.1.19->streamlit) (4.0.9)\n",
      "Requirement already satisfied: zipp>=0.5 in f:\\basu sb\\lib\\site-packages (from importlib-metadata>=1.4->streamlit) (3.6.0)\n",
      "Requirement already satisfied: pytz>=2017.3 in f:\\basu sb\\lib\\site-packages (from pandas>=0.21.0->streamlit) (2021.3)\n",
      "Requirement already satisfied: ipykernel>=5.1.2 in f:\\basu sb\\lib\\site-packages (from pydeck>=0.1.dev5->streamlit) (6.4.1)\n",
      "Requirement already satisfied: traitlets>=4.3.2 in f:\\basu sb\\lib\\site-packages (from pydeck>=0.1.dev5->streamlit) (5.1.0)\n",
      "Requirement already satisfied: ipywidgets>=7.0.0 in f:\\basu sb\\lib\\site-packages (from pydeck>=0.1.dev5->streamlit) (7.6.5)\n",
      "Requirement already satisfied: six>=1.5 in f:\\basu sb\\lib\\site-packages (from python-dateutil->streamlit) (1.12.0)\n",
      "Requirement already satisfied: pyparsing>=2.0.2 in f:\\basu sb\\lib\\site-packages (from packaging->streamlit) (3.0.4)\n",
      "Requirement already satisfied: chardet<3.1.0,>=3.0.2 in f:\\basu sb\\lib\\site-packages (from requests->streamlit) (3.0.4)\n",
      "Requirement already satisfied: urllib3<1.25,>=1.21.1 in f:\\basu sb\\lib\\site-packages (from requests->streamlit) (1.24.3)\n",
      "Requirement already satisfied: certifi>=2017.4.17 in f:\\basu sb\\lib\\site-packages (from requests->streamlit) (2021.10.8)\n",
      "Requirement already satisfied: idna<2.9,>=2.5 in f:\\basu sb\\lib\\site-packages (from requests->streamlit) (2.8)\n",
      "Requirement already satisfied: pygments<3.0.0,>=2.6.0 in f:\\basu sb\\lib\\site-packages (from rich->streamlit) (2.10.0)\n",
      "Requirement already satisfied: commonmark<0.10.0,>=0.9.0 in f:\\basu sb\\lib\\site-packages (from rich->streamlit) (0.9.1)\n",
      "Requirement already satisfied: tzdata in f:\\basu sb\\lib\\site-packages (from tzlocal->streamlit) (2022.1)\n",
      "Requirement already satisfied: pytz-deprecation-shim in f:\\basu sb\\lib\\site-packages (from tzlocal->streamlit) (0.1.0.post0)\n",
      "Requirement already satisfied: decorator>=3.4.0 in f:\\basu sb\\lib\\site-packages (from validators->streamlit) (5.1.0)\n",
      "Requirement already satisfied: smmap<6,>=3.0.1 in f:\\basu sb\\lib\\site-packages (from gitdb<5,>=4.0.1->gitpython!=3.1.19->streamlit) (5.0.0)\n",
      "Requirement already satisfied: ipython<8.0,>=7.23.1 in f:\\basu sb\\lib\\site-packages (from ipykernel>=5.1.2->pydeck>=0.1.dev5->streamlit) (7.34.0)\n",
      "Requirement already satisfied: debugpy<2.0,>=1.0.0 in f:\\basu sb\\lib\\site-packages (from ipykernel>=5.1.2->pydeck>=0.1.dev5->streamlit) (1.4.1)\n",
      "Requirement already satisfied: jupyter-client<8.0 in f:\\basu sb\\lib\\site-packages (from ipykernel>=5.1.2->pydeck>=0.1.dev5->streamlit) (6.1.12)\n",
      "Requirement already satisfied: matplotlib-inline<0.2.0,>=0.1.0 in f:\\basu sb\\lib\\site-packages (from ipykernel>=5.1.2->pydeck>=0.1.dev5->streamlit) (0.1.2)\n",
      "Requirement already satisfied: ipython-genutils in f:\\basu sb\\lib\\site-packages (from ipykernel>=5.1.2->pydeck>=0.1.dev5->streamlit) (0.2.0)\n",
      "Requirement already satisfied: jupyterlab-widgets>=1.0.0 in f:\\basu sb\\lib\\site-packages (from ipywidgets>=7.0.0->pydeck>=0.1.dev5->streamlit) (1.0.0)\n",
      "Requirement already satisfied: widgetsnbextension~=3.5.0 in f:\\basu sb\\lib\\site-packages (from ipywidgets>=7.0.0->pydeck>=0.1.dev5->streamlit) (3.5.1)\n",
      "Requirement already satisfied: nbformat>=4.2.0 in f:\\basu sb\\lib\\site-packages (from ipywidgets>=7.0.0->pydeck>=0.1.dev5->streamlit) (5.1.3)\n",
      "Requirement already satisfied: MarkupSafe>=0.23 in f:\\basu sb\\lib\\site-packages (from jinja2->altair>=3.2.0->streamlit) (1.1.1)\n",
      "Requirement already satisfied: pyrsistent>=0.14.0 in f:\\basu sb\\lib\\site-packages (from jsonschema>=3.0->altair>=3.2.0->streamlit) (0.18.0)\n",
      "Requirement already satisfied: setuptools in f:\\basu sb\\lib\\site-packages (from jsonschema>=3.0->altair>=3.2.0->streamlit) (58.0.4)\n",
      "Requirement already satisfied: pickleshare in f:\\basu sb\\lib\\site-packages (from ipython<8.0,>=7.23.1->ipykernel>=5.1.2->pydeck>=0.1.dev5->streamlit) (0.7.5)\n",
      "Requirement already satisfied: jedi>=0.16 in f:\\basu sb\\lib\\site-packages (from ipython<8.0,>=7.23.1->ipykernel>=5.1.2->pydeck>=0.1.dev5->streamlit) (0.18.0)\n",
      "Requirement already satisfied: backcall in f:\\basu sb\\lib\\site-packages (from ipython<8.0,>=7.23.1->ipykernel>=5.1.2->pydeck>=0.1.dev5->streamlit) (0.2.0)\n",
      "Requirement already satisfied: prompt-toolkit!=3.0.0,!=3.0.1,<3.1.0,>=2.0.0 in f:\\basu sb\\lib\\site-packages (from ipython<8.0,>=7.23.1->ipykernel>=5.1.2->pydeck>=0.1.dev5->streamlit) (2.0.4)\n",
      "Requirement already satisfied: jupyter-core>=4.6.0 in f:\\basu sb\\lib\\site-packages (from jupyter-client<8.0->ipykernel>=5.1.2->pydeck>=0.1.dev5->streamlit) (4.8.1)\n",
      "Requirement already satisfied: pyzmq>=13 in f:\\basu sb\\lib\\site-packages (from jupyter-client<8.0->ipykernel>=5.1.2->pydeck>=0.1.dev5->streamlit) (22.2.1)\n",
      "Requirement already satisfied: notebook>=4.4.1 in f:\\basu sb\\lib\\site-packages (from widgetsnbextension~=3.5.0->ipywidgets>=7.0.0->pydeck>=0.1.dev5->streamlit) (6.4.5)\n",
      "Requirement already satisfied: parso<0.9.0,>=0.8.0 in f:\\basu sb\\lib\\site-packages (from jedi>=0.16->ipython<8.0,>=7.23.1->ipykernel>=5.1.2->pydeck>=0.1.dev5->streamlit) (0.8.2)\n",
      "Requirement already satisfied: pywin32>=1.0 in f:\\basu sb\\lib\\site-packages (from jupyter-core>=4.6.0->jupyter-client<8.0->ipykernel>=5.1.2->pydeck>=0.1.dev5->streamlit) (304)\n",
      "Requirement already satisfied: prometheus-client in f:\\basu sb\\lib\\site-packages (from notebook>=4.4.1->widgetsnbextension~=3.5.0->ipywidgets>=7.0.0->pydeck>=0.1.dev5->streamlit) (0.11.0)\n",
      "Requirement already satisfied: terminado>=0.8.3 in f:\\basu sb\\lib\\site-packages (from notebook>=4.4.1->widgetsnbextension~=3.5.0->ipywidgets>=7.0.0->pydeck>=0.1.dev5->streamlit) (0.9.4)\n",
      "Requirement already satisfied: argon2-cffi in f:\\basu sb\\lib\\site-packages (from notebook>=4.4.1->widgetsnbextension~=3.5.0->ipywidgets>=7.0.0->pydeck>=0.1.dev5->streamlit) (20.1.0)\n",
      "Requirement already satisfied: Send2Trash>=1.5.0 in f:\\basu sb\\lib\\site-packages (from notebook>=4.4.1->widgetsnbextension~=3.5.0->ipywidgets>=7.0.0->pydeck>=0.1.dev5->streamlit) (1.8.0)\n",
      "Requirement already satisfied: nbconvert in f:\\basu sb\\lib\\site-packages (from notebook>=4.4.1->widgetsnbextension~=3.5.0->ipywidgets>=7.0.0->pydeck>=0.1.dev5->streamlit) (6.1.0)\n",
      "Requirement already satisfied: wcwidth in f:\\basu sb\\lib\\site-packages (from prompt-toolkit!=3.0.0,!=3.0.1,<3.1.0,>=2.0.0->ipython<8.0,>=7.23.1->ipykernel>=5.1.2->pydeck>=0.1.dev5->streamlit) (0.2.5)\n",
      "Requirement already satisfied: pywinpty>=0.5 in f:\\basu sb\\lib\\site-packages (from terminado>=0.8.3->notebook>=4.4.1->widgetsnbextension~=3.5.0->ipywidgets>=7.0.0->pydeck>=0.1.dev5->streamlit) (0.5.7)\n",
      "Requirement already satisfied: cffi>=1.0.0 in f:\\basu sb\\lib\\site-packages (from argon2-cffi->notebook>=4.4.1->widgetsnbextension~=3.5.0->ipywidgets>=7.0.0->pydeck>=0.1.dev5->streamlit) (1.14.6)\n",
      "Requirement already satisfied: pandocfilters>=1.4.1 in f:\\basu sb\\lib\\site-packages (from nbconvert->notebook>=4.4.1->widgetsnbextension~=3.5.0->ipywidgets>=7.0.0->pydeck>=0.1.dev5->streamlit) (1.4.3)\n",
      "Requirement already satisfied: mistune<2,>=0.8.1 in f:\\basu sb\\lib\\site-packages (from nbconvert->notebook>=4.4.1->widgetsnbextension~=3.5.0->ipywidgets>=7.0.0->pydeck>=0.1.dev5->streamlit) (0.8.4)\n",
      "Requirement already satisfied: bleach in f:\\basu sb\\lib\\site-packages (from nbconvert->notebook>=4.4.1->widgetsnbextension~=3.5.0->ipywidgets>=7.0.0->pydeck>=0.1.dev5->streamlit) (4.0.0)\n",
      "Requirement already satisfied: jupyterlab-pygments in f:\\basu sb\\lib\\site-packages (from nbconvert->notebook>=4.4.1->widgetsnbextension~=3.5.0->ipywidgets>=7.0.0->pydeck>=0.1.dev5->streamlit) (0.1.2)\n",
      "Requirement already satisfied: nbclient<0.6.0,>=0.5.0 in f:\\basu sb\\lib\\site-packages (from nbconvert->notebook>=4.4.1->widgetsnbextension~=3.5.0->ipywidgets>=7.0.0->pydeck>=0.1.dev5->streamlit) (0.5.3)\n",
      "Requirement already satisfied: testpath in f:\\basu sb\\lib\\site-packages (from nbconvert->notebook>=4.4.1->widgetsnbextension~=3.5.0->ipywidgets>=7.0.0->pydeck>=0.1.dev5->streamlit) (0.5.0)\n",
      "Requirement already satisfied: defusedxml in f:\\basu sb\\lib\\site-packages (from nbconvert->notebook>=4.4.1->widgetsnbextension~=3.5.0->ipywidgets>=7.0.0->pydeck>=0.1.dev5->streamlit) (0.7.1)\n",
      "Requirement already satisfied: pycparser in f:\\basu sb\\lib\\site-packages (from cffi>=1.0.0->argon2-cffi->notebook>=4.4.1->widgetsnbextension~=3.5.0->ipywidgets>=7.0.0->pydeck>=0.1.dev5->streamlit) (2.20)\n",
      "Requirement already satisfied: async-generator in f:\\basu sb\\lib\\site-packages (from nbclient<0.6.0,>=0.5.0->nbconvert->notebook>=4.4.1->widgetsnbextension~=3.5.0->ipywidgets>=7.0.0->pydeck>=0.1.dev5->streamlit) (1.10)\n",
      "Requirement already satisfied: nest-asyncio in f:\\basu sb\\lib\\site-packages (from nbclient<0.6.0,>=0.5.0->nbconvert->notebook>=4.4.1->widgetsnbextension~=3.5.0->ipywidgets>=7.0.0->pydeck>=0.1.dev5->streamlit) (1.5.1)\n",
      "Requirement already satisfied: webencodings in f:\\basu sb\\lib\\site-packages (from bleach->nbconvert->notebook>=4.4.1->widgetsnbextension~=3.5.0->ipywidgets>=7.0.0->pydeck>=0.1.dev5->streamlit) (0.5.1)\n"
     ]
    }
   ],
   "source": [
    "pip install streamlit"
   ]
  },
  {
   "cell_type": "code",
   "execution_count": null,
   "id": "85c2b888",
   "metadata": {
    "ExecuteTime": {
     "start_time": "2022-11-02T08:51:11.088Z"
    }
   },
   "outputs": [],
   "source": [
    "!streamlit run Recommendation_app.py"
   ]
  },
  {
   "cell_type": "code",
   "execution_count": null,
   "id": "7be46029",
   "metadata": {},
   "outputs": [],
   "source": []
  }
 ],
 "metadata": {
  "kernelspec": {
   "display_name": "Python 3 (ipykernel)",
   "language": "python",
   "name": "python3"
  },
  "language_info": {
   "codemirror_mode": {
    "name": "ipython",
    "version": 3
   },
   "file_extension": ".py",
   "mimetype": "text/x-python",
   "name": "python",
   "nbconvert_exporter": "python",
   "pygments_lexer": "ipython3",
   "version": "3.9.7"
  },
  "varInspector": {
   "cols": {
    "lenName": 16,
    "lenType": 16,
    "lenVar": 40
   },
   "kernels_config": {
    "python": {
     "delete_cmd_postfix": "",
     "delete_cmd_prefix": "del ",
     "library": "var_list.py",
     "varRefreshCmd": "print(var_dic_list())"
    },
    "r": {
     "delete_cmd_postfix": ") ",
     "delete_cmd_prefix": "rm(",
     "library": "var_list.r",
     "varRefreshCmd": "cat(var_dic_list()) "
    }
   },
   "types_to_exclude": [
    "module",
    "function",
    "builtin_function_or_method",
    "instance",
    "_Feature"
   ],
   "window_display": false
  }
 },
 "nbformat": 4,
 "nbformat_minor": 5
}
